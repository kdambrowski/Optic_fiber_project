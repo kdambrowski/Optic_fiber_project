{
  "nbformat": 4,
  "nbformat_minor": 0,
  "metadata": {
    "colab": {
      "provenance": [],
      "authorship_tag": "ABX9TyMf0V4znn6gxw0stEQXIU4b",
      "include_colab_link": true
    },
    "kernelspec": {
      "name": "python3",
      "display_name": "Python 3"
    },
    "language_info": {
      "name": "python"
    }
  },
  "cells": [
    {
      "cell_type": "markdown",
      "metadata": {
        "id": "view-in-github",
        "colab_type": "text"
      },
      "source": [
        "<a href=\"https://colab.research.google.com/github/kdambrowski/Optic_fiber_project/blob/main/RECRUITMENT_TASK_Industry_4_0_optic_sensors_.ipynb\" target=\"_parent\"><img src=\"https://colab.research.google.com/assets/colab-badge.svg\" alt=\"Open In Colab\"/></a>"
      ]
    },
    {
      "cell_type": "markdown",
      "source": [
        "#Task Description\n"
      ],
      "metadata": {
        "id": "Qg5WU8bt3bf5"
      }
    },
    {
      "cell_type": "markdown",
      "source": [
        "A company producing fiber optic sensors decided to implement the concept\n",
        "of Industry 4.0 in one of their production processes. They are going to\n",
        "implement the AI techniques to automate verification of produced sensors.\n",
        "After the procedure in the laboratory they collected three spectroscopic\n",
        "signals. Unfortunately, such procedures are extremely time consuming and\n",
        "require large human resources. "
      ],
      "metadata": {
        "id": "pPMAlLSN3bKl"
      }
    },
    {
      "cell_type": "markdown",
      "source": [
        "#Goal"
      ],
      "metadata": {
        "id": "_3Rc7mYR34Xp"
      }
    },
    {
      "cell_type": "markdown",
      "source": [
        "They are planning to implement AI\n",
        "algorithms in order to predict characteristics (or any other parameters – you\n",
        "can propose something) of a working sensor in water and isopropanol based\n",
        "on measured characteristics in air."
      ],
      "metadata": {
        "id": "t9FJuzUa36Eq"
      }
    },
    {
      "cell_type": "markdown",
      "source": [
        "# Data source"
      ],
      "metadata": {
        "id": "xTo8eL1k4G3m"
      }
    },
    {
      "cell_type": "markdown",
      "source": [
        "https://drive.google.com/drive/folders/1ha7P4Mwp6_XYnUHs20460CbBC4zwNvf9?usp=share_link"
      ],
      "metadata": {
        "id": "jeQvPE014KxG"
      }
    },
    {
      "cell_type": "markdown",
      "source": [
        "# Additional data source"
      ],
      "metadata": {
        "id": "ab95Wz-74e7u"
      }
    },
    {
      "cell_type": "markdown",
      "source": [
        "BACKGROUND \n",
        "https://www.atascientific.com.au/spectrometry/\n",
        "\n",
        "MATERIALS: \n",
        "https://www.coractive.com/applications/fiber-optic-sensors/\n",
        "\n",
        "https://www.i-scoop.eu/industry-4-0/"
      ],
      "metadata": {
        "id": "5wnRlBnZ4i1W"
      }
    },
    {
      "cell_type": "markdown",
      "source": [
        "# Liblary"
      ],
      "metadata": {
        "id": "bD9Ll0Q8HwZF"
      }
    },
    {
      "cell_type": "code",
      "source": [
        "import os\n",
        "import shutil\n",
        "\n",
        "import numpy as np\n",
        "import pandas as pd\n",
        "import seaborn as sns\n",
        "\n",
        "from matplotlib import pyplot as plt\n",
        "from sklearn.preprocessing import StandardScaler\n",
        "from sklearn.model_selection import train_test_split\n",
        "from scipy.stats import normaltest\n",
        "from sklearn.model_selection import train_test_split, KFold\n",
        "from sklearn.svm import SVR\n",
        "from sklearn import linear_model\n",
        "from sklearn.metrics import mean_squared_error\n"
      ],
      "metadata": {
        "id": "oGULtYzDKHEd"
      },
      "execution_count": 1,
      "outputs": []
    },
    {
      "cell_type": "markdown",
      "source": [
        "# Download datas"
      ],
      "metadata": {
        "id": "cHVdt_aFJxLM"
      }
    },
    {
      "cell_type": "code",
      "execution_count": 2,
      "metadata": {
        "colab": {
          "base_uri": "https://localhost:8080/"
        },
        "id": "2Rd7JDs0Hc6t",
        "outputId": "c34d87bd-3824-42d0-e8fb-4932d5bb4df2"
      },
      "outputs": [
        {
          "output_type": "stream",
          "name": "stdout",
          "text": [
            "Retrieving folder list\n",
            "Retrieving folder 1jZJ0Ez5vUDkgCzXYeZFaZr9lDEtwgynS sesion_01_20\n",
            "Processing file 1LM9mCShE-5yAtVYFmjvT8gqgnCr9s2rW sensor01_air.txt\n",
            "Processing file 17DfvpSqYgEA4R_DijRwWgS7XsUXZeYkS sensor01_izopropanol.txt\n",
            "Processing file 1TGUQyhJjhDx3qp05e4Zfv6Z20DLUur4y sensor01_water.txt\n",
            "Retrieving folder 16aAwB8IXUI7ZlEoxhSR08cVtGorzuC7B sesion_02_20\n",
            "Processing file 148xK-bCWO35H9wrOJQDu5dGsHOPWy68C sensor02_air.txt\n",
            "Processing file 1ZFFpmp86fOPdrt38jZm-a8LDFDcGBq4z sensor02_izopropanol.txt\n",
            "Processing file 1B-IEuA0PxgPtfbdqYZe3JrSMGKm2WN2u sensor02_water.txt\n",
            "Retrieving folder 1C83NkvGCkIH503gFHIH2o0BC2nOpLWj2 sesion_03_20\n",
            "Processing file 1kEZRMklztXEbu59E10p6m09lX7A8jCAO sensor03_air.txt\n",
            "Processing file 1ZVmOBZEMF48U0tE9E5iqN-aHtnKaBNch sensor03_izopropanol.txt\n",
            "Processing file 1Y5_mQESCc7hYiHG14HfBcvLNND5fZ_ao sensor03_water.txt\n",
            "Retrieving folder 1ogErYANmwr3ev0NHep5OEcj7eJRJU2O9 sesion_04_20\n",
            "Processing file 1aktTnDg_iuQbFkARU5eyRFwbtL93oZII sensor04_air.txt\n",
            "Processing file 1i8qdvwY-9wkiqMg-uBvQ70vj13EPgxrE sensor04_izopropanol.txt\n",
            "Processing file 1ol7hvVqQ9Vw2d5Qng3BLa7rVtarR6I9i sensor04_water.txt\n",
            "Retrieving folder 1UkED5LVMzeDjC_zyWoFZSTtvKDYcoDvW sesion_05_20\n",
            "Processing file 1RIgK2tfveoX4fiIUTsF5rToBeVC8sQA7 sensor05_air.txt\n",
            "Processing file 1XtQKxuD8Vy5ih9yFvqlvQKnxzd-x_HH5 sensor05_izopropanol.txt\n",
            "Processing file 1k1WAB_tWNU-ScGE-iaYUIMK_ekFmCFUG sensor05_water.txt\n",
            "Retrieving folder 13e5EB9brwzpWCF2poicwRe4B_N4W3_gs sesion_06_20\n",
            "Processing file 1_XWeB9WQpN8FLlzS7QvYu3adwrRGTDYd sensor06_air.txt\n",
            "Processing file 1ooatrDVRE9qS2WsAdhwrWpvBJQkeU3iK sensor06_izopropanol.txt\n",
            "Processing file 10dpvNM_5t0ViXl1K3q4jd_Ys3f2m3sgX sensor06_water.txt\n",
            "Retrieving folder 1N2n5kcPw1cvEuykYdBegZGp09p5r_oYS sesion_07_20\n",
            "Processing file 1U9Wa9EsBOGtA55McyN3fREOQJl9D8-E_ sensor07_air.txt\n",
            "Processing file 1xJg4Bs-LHFJ59B8mI7sEXbIbvWXngxX5 sensor07_izopropanol.txt\n",
            "Processing file 1AbTvzIKv2xeuDrZaRPPJYU2O4-A4rhWs sensor07_water.txt\n",
            "Retrieving folder 1yqeyOrB5XDcKn4ZS2REKL5vLmh7vxB9p sesion_08_20\n",
            "Processing file 1KS8FooVgb2dOHho319g1FR-vSsSbyrn3 sensor08_air.txt\n",
            "Processing file 1nvXy9rD3HyJWg5D6dIsfuxjKSmkMlWXJ sensor08_izopropanol.txt\n",
            "Processing file 1CBWMKS2ZGZ9TiKTAnQPDhnDTRRY1EZbD sensor08_water.txt\n",
            "Retrieving folder 1CXgZHTrj_14sI2xRJojdwEk9iYrt-Qiu sesion_09_20\n",
            "Processing file 1PhTyHA1gXR1rSvSO6_6Px_XBYWpCe7Un sensor09_air.txt\n",
            "Processing file 1edNOlcwtGuGIlAbOjE_9jVOD0g_eWrMu sensor09_izopropanol.txt\n",
            "Processing file 1J8M5jq7OpBMEIKQIN0icaZF5866ZN1Ec sensor09_water.txt\n",
            "Retrieving folder 17PJk4FEV_D0VuqrVjAF7E5xGhyczvEko sesion_10_20\n",
            "Processing file 1ZggdSRJNNKT09D-FNzfKX8LQZED37GX2 sensor10_air.txt\n",
            "Processing file 1Q4b-yxLughokuzURH8zVoGUvzerPToqU sensor10_izopropanol.txt\n",
            "Processing file 13C3p1sI__V2bm6gM0tk8fRwuaNOHZ4k1 sensor10_water.txt\n",
            "Retrieving folder list completed\n",
            "Building directory structure\n",
            "Building directory structure completed\n",
            "Downloading...\n",
            "From: https://drive.google.com/uc?id=1LM9mCShE-5yAtVYFmjvT8gqgnCr9s2rW\n",
            "To: /content/Dataset/sesion_01_20/sensor01_air.txt\n",
            "100% 54.9k/54.9k [00:00<00:00, 42.6MB/s]\n",
            "Downloading...\n",
            "From: https://drive.google.com/uc?id=17DfvpSqYgEA4R_DijRwWgS7XsUXZeYkS\n",
            "To: /content/Dataset/sesion_01_20/sensor01_izopropanol.txt\n",
            "100% 55.4k/55.4k [00:00<00:00, 65.7MB/s]\n",
            "Downloading...\n",
            "From: https://drive.google.com/uc?id=1TGUQyhJjhDx3qp05e4Zfv6Z20DLUur4y\n",
            "To: /content/Dataset/sesion_01_20/sensor01_water.txt\n",
            "100% 55.4k/55.4k [00:00<00:00, 66.7MB/s]\n",
            "Downloading...\n",
            "From: https://drive.google.com/uc?id=148xK-bCWO35H9wrOJQDu5dGsHOPWy68C\n",
            "To: /content/Dataset/sesion_02_20/sensor02_air.txt\n",
            "100% 54.9k/54.9k [00:00<00:00, 55.4MB/s]\n",
            "Downloading...\n",
            "From: https://drive.google.com/uc?id=1ZFFpmp86fOPdrt38jZm-a8LDFDcGBq4z\n",
            "To: /content/Dataset/sesion_02_20/sensor02_izopropanol.txt\n",
            "100% 55.3k/55.3k [00:00<00:00, 67.2MB/s]\n",
            "Downloading...\n",
            "From: https://drive.google.com/uc?id=1B-IEuA0PxgPtfbdqYZe3JrSMGKm2WN2u\n",
            "To: /content/Dataset/sesion_02_20/sensor02_water.txt\n",
            "100% 55.3k/55.3k [00:00<00:00, 32.0MB/s]\n",
            "Downloading...\n",
            "From: https://drive.google.com/uc?id=1kEZRMklztXEbu59E10p6m09lX7A8jCAO\n",
            "To: /content/Dataset/sesion_03_20/sensor03_air.txt\n",
            "100% 55.3k/55.3k [00:00<00:00, 63.6MB/s]\n",
            "Downloading...\n",
            "From: https://drive.google.com/uc?id=1ZVmOBZEMF48U0tE9E5iqN-aHtnKaBNch\n",
            "To: /content/Dataset/sesion_03_20/sensor03_izopropanol.txt\n",
            "100% 55.4k/55.4k [00:00<00:00, 53.2MB/s]\n",
            "Downloading...\n",
            "From: https://drive.google.com/uc?id=1Y5_mQESCc7hYiHG14HfBcvLNND5fZ_ao\n",
            "To: /content/Dataset/sesion_03_20/sensor03_water.txt\n",
            "100% 55.4k/55.4k [00:00<00:00, 56.6MB/s]\n",
            "Downloading...\n",
            "From: https://drive.google.com/uc?id=1aktTnDg_iuQbFkARU5eyRFwbtL93oZII\n",
            "To: /content/Dataset/sesion_04_20/sensor04_air.txt\n",
            "100% 55.4k/55.4k [00:00<00:00, 64.9MB/s]\n",
            "Downloading...\n",
            "From: https://drive.google.com/uc?id=1i8qdvwY-9wkiqMg-uBvQ70vj13EPgxrE\n",
            "To: /content/Dataset/sesion_04_20/sensor04_izopropanol.txt\n",
            "100% 55.3k/55.3k [00:00<00:00, 68.8MB/s]\n",
            "Downloading...\n",
            "From: https://drive.google.com/uc?id=1ol7hvVqQ9Vw2d5Qng3BLa7rVtarR6I9i\n",
            "To: /content/Dataset/sesion_04_20/sensor04_water.txt\n",
            "100% 55.4k/55.4k [00:00<00:00, 70.2MB/s]\n",
            "Downloading...\n",
            "From: https://drive.google.com/uc?id=1RIgK2tfveoX4fiIUTsF5rToBeVC8sQA7\n",
            "To: /content/Dataset/sesion_05_20/sensor05_air.txt\n",
            "100% 55.0k/55.0k [00:00<00:00, 68.7MB/s]\n",
            "Downloading...\n",
            "From: https://drive.google.com/uc?id=1XtQKxuD8Vy5ih9yFvqlvQKnxzd-x_HH5\n",
            "To: /content/Dataset/sesion_05_20/sensor05_izopropanol.txt\n",
            "100% 55.2k/55.2k [00:00<00:00, 16.9MB/s]\n",
            "Downloading...\n",
            "From: https://drive.google.com/uc?id=1k1WAB_tWNU-ScGE-iaYUIMK_ekFmCFUG\n",
            "To: /content/Dataset/sesion_05_20/sensor05_water.txt\n",
            "100% 55.2k/55.2k [00:00<00:00, 62.3MB/s]\n",
            "Downloading...\n",
            "From: https://drive.google.com/uc?id=1_XWeB9WQpN8FLlzS7QvYu3adwrRGTDYd\n",
            "To: /content/Dataset/sesion_06_20/sensor06_air.txt\n",
            "100% 55.1k/55.1k [00:00<00:00, 68.0MB/s]\n",
            "Downloading...\n",
            "From: https://drive.google.com/uc?id=1ooatrDVRE9qS2WsAdhwrWpvBJQkeU3iK\n",
            "To: /content/Dataset/sesion_06_20/sensor06_izopropanol.txt\n",
            "100% 55.2k/55.2k [00:00<00:00, 68.0MB/s]\n",
            "Downloading...\n",
            "From: https://drive.google.com/uc?id=10dpvNM_5t0ViXl1K3q4jd_Ys3f2m3sgX\n",
            "To: /content/Dataset/sesion_06_20/sensor06_water.txt\n",
            "100% 55.2k/55.2k [00:00<00:00, 61.0MB/s]\n",
            "Downloading...\n",
            "From: https://drive.google.com/uc?id=1U9Wa9EsBOGtA55McyN3fREOQJl9D8-E_\n",
            "To: /content/Dataset/sesion_07_20/sensor07_air.txt\n",
            "100% 55.1k/55.1k [00:00<00:00, 68.6MB/s]\n",
            "Downloading...\n",
            "From: https://drive.google.com/uc?id=1xJg4Bs-LHFJ59B8mI7sEXbIbvWXngxX5\n",
            "To: /content/Dataset/sesion_07_20/sensor07_izopropanol.txt\n",
            "100% 55.3k/55.3k [00:00<00:00, 68.8MB/s]\n",
            "Downloading...\n",
            "From: https://drive.google.com/uc?id=1AbTvzIKv2xeuDrZaRPPJYU2O4-A4rhWs\n",
            "To: /content/Dataset/sesion_07_20/sensor07_water.txt\n",
            "100% 55.4k/55.4k [00:00<00:00, 62.5MB/s]\n",
            "Downloading...\n",
            "From: https://drive.google.com/uc?id=1KS8FooVgb2dOHho319g1FR-vSsSbyrn3\n",
            "To: /content/Dataset/sesion_08_20/sensor08_air.txt\n",
            "100% 54.9k/54.9k [00:00<00:00, 66.6MB/s]\n",
            "Downloading...\n",
            "From: https://drive.google.com/uc?id=1nvXy9rD3HyJWg5D6dIsfuxjKSmkMlWXJ\n",
            "To: /content/Dataset/sesion_08_20/sensor08_izopropanol.txt\n",
            "100% 55.3k/55.3k [00:00<00:00, 65.5MB/s]\n",
            "Downloading...\n",
            "From: https://drive.google.com/uc?id=1CBWMKS2ZGZ9TiKTAnQPDhnDTRRY1EZbD\n",
            "To: /content/Dataset/sesion_08_20/sensor08_water.txt\n",
            "100% 55.3k/55.3k [00:00<00:00, 66.1MB/s]\n",
            "Downloading...\n",
            "From: https://drive.google.com/uc?id=1PhTyHA1gXR1rSvSO6_6Px_XBYWpCe7Un\n",
            "To: /content/Dataset/sesion_09_20/sensor09_air.txt\n",
            "100% 55.2k/55.2k [00:00<00:00, 68.3MB/s]\n",
            "Downloading...\n",
            "From: https://drive.google.com/uc?id=1edNOlcwtGuGIlAbOjE_9jVOD0g_eWrMu\n",
            "To: /content/Dataset/sesion_09_20/sensor09_izopropanol.txt\n",
            "100% 55.3k/55.3k [00:00<00:00, 67.3MB/s]\n",
            "Downloading...\n",
            "From: https://drive.google.com/uc?id=1J8M5jq7OpBMEIKQIN0icaZF5866ZN1Ec\n",
            "To: /content/Dataset/sesion_09_20/sensor09_water.txt\n",
            "100% 55.3k/55.3k [00:00<00:00, 69.2MB/s]\n",
            "Downloading...\n",
            "From: https://drive.google.com/uc?id=1ZggdSRJNNKT09D-FNzfKX8LQZED37GX2\n",
            "To: /content/Dataset/sesion_10_20/sensor10_air.txt\n",
            "100% 55.0k/55.0k [00:00<00:00, 67.4MB/s]\n",
            "Downloading...\n",
            "From: https://drive.google.com/uc?id=1Q4b-yxLughokuzURH8zVoGUvzerPToqU\n",
            "To: /content/Dataset/sesion_10_20/sensor10_izopropanol.txt\n",
            "100% 55.3k/55.3k [00:00<00:00, 64.2MB/s]\n",
            "Downloading...\n",
            "From: https://drive.google.com/uc?id=13C3p1sI__V2bm6gM0tk8fRwuaNOHZ4k1\n",
            "To: /content/Dataset/sesion_10_20/sensor10_water.txt\n",
            "100% 55.3k/55.3k [00:00<00:00, 64.9MB/s]\n",
            "Download completed\n"
          ]
        }
      ],
      "source": [
        "!gdown --folder https://drive.google.com/drive/folders/1ha7P4Mwp6_XYnUHs20460CbBC4zwNvf9"
      ]
    },
    {
      "cell_type": "markdown",
      "source": [
        "# Preprocessing"
      ],
      "metadata": {
        "id": "pYbfDVy9KfgK"
      }
    },
    {
      "cell_type": "markdown",
      "source": [
        "Settings and variables\n"
      ],
      "metadata": {
        "id": "0DyoRh_XL_c_"
      }
    },
    {
      "cell_type": "code",
      "source": [
        "upper_path_of_folder = '/content/Dataset'\n",
        "path_air_result_folder ='/content/air_result_folder/'\n",
        "path_isopropanol_result_folder ='/content/isopropanol_result_folder/'\n",
        "path_water_result_folder ='/content/water_result_folder/'\n",
        "alhpa = 0.1\n",
        "\n"
      ],
      "metadata": {
        "id": "enz-Lo0RMSK9"
      },
      "execution_count": 3,
      "outputs": []
    },
    {
      "cell_type": "markdown",
      "source": [
        "Create new folders to collect separated data"
      ],
      "metadata": {
        "id": "5Bok3KwdnCYv"
      }
    },
    {
      "cell_type": "code",
      "source": [
        "os.mkdir(path_air_result_folder)\n",
        "os.mkdir(path_isopropanol_result_folder)\n",
        "os.mkdir(path_water_result_folder)"
      ],
      "metadata": {
        "id": "sCFLE63MeM7P"
      },
      "execution_count": 4,
      "outputs": []
    },
    {
      "cell_type": "markdown",
      "source": [
        "Extract specific data from folders to a new dictionary"
      ],
      "metadata": {
        "id": "I-9UVagpnHlZ"
      }
    },
    {
      "cell_type": "code",
      "source": [
        "for sesion_dir in os.listdir(upper_path_of_folder):\n",
        "  sesion_path =upper_path_of_folder + '/' + sesion_dir + '/'\n",
        "  for files in os.listdir(sesion_path):\n",
        "    file_name_split = files.split(\"_\")\n",
        "    testing_medium = file_name_split[1].split('.')\n",
        "    medium_name = testing_medium[0]\n",
        "    if 'air' in medium_name:\n",
        "      shutil.copy(sesion_path + files, path_air_result_folder)\n",
        "    if 'izopropanol' in medium_name:\n",
        "      shutil.copy(sesion_path + files, path_isopropanol_result_folder)\n",
        "    if 'water' in medium_name:\n",
        "      shutil.copy(sesion_path + files, path_water_result_folder)\n",
        "\n"
      ],
      "metadata": {
        "id": "PuJ6rGsgT0zX"
      },
      "execution_count": 5,
      "outputs": []
    },
    {
      "cell_type": "markdown",
      "source": [
        "# Data visualisation"
      ],
      "metadata": {
        "id": "70ybhdREnX7y"
      }
    },
    {
      "cell_type": "code",
      "source": [
        "fig, ax = plt.subplots()\n",
        "for f in os.listdir(path_air_result_folder):\n",
        "    direct_file_path = path_air_result_folder + f\n",
        "    df = pd.read_csv(direct_file_path,\n",
        "            header=0,\n",
        "            names = np.array(['signal wavelength [nm]','signal amplitude [dB]']\n",
        "                             ))\n",
        "    ax.plot(df['signal wavelength [nm]'],df['signal amplitude [dB]'], label=f)\n",
        "plt.title('air_resul', fontsize=22)\n",
        "plt.xlabel('signal wavelength [nm]')\n",
        "plt.ylabel('signal amplitude [dB]')\n",
        "plt.legend()\n",
        "plt.show()"
      ],
      "metadata": {
        "colab": {
          "base_uri": "https://localhost:8080/",
          "height": 301
        },
        "id": "XatzbxxMpsV2",
        "outputId": "7c0dd757-2b33-4cc9-f683-da8ccf17a6b2"
      },
      "execution_count": 6,
      "outputs": [
        {
          "output_type": "display_data",
          "data": {
            "text/plain": [
              "<Figure size 432x288 with 1 Axes>"
            ],
            "image/png": "[encoded data removed]"
          },
          "metadata": {
            "needs_background": "light"
          }
        }
      ]
    },
    {
      "cell_type": "code",
      "source": [],
      "metadata": {
        "id": "umqbMN0WJhMh"
      },
      "execution_count": 6,
      "outputs": []
    },
    {
      "cell_type": "code",
      "source": [
        "fig, ax = plt.subplots()\n",
        "for f in os.listdir(path_isopropanol_result_folder):\n",
        "    direct_file_path = path_isopropanol_result_folder + f\n",
        "    df = pd.read_csv(direct_file_path,\n",
        "            header=0,\n",
        "            names = np.array(['signal wavelength [nm]','signal amplitude [dB]']\n",
        "                             ))\n",
        "    ax.plot(df['signal wavelength [nm]'],df['signal amplitude [dB]'],label=f)\n",
        "\n",
        "plt.title('isopropanol_result', fontsize=22)\n",
        "plt.xlabel('signal wavelength [nm]')\n",
        "plt.ylabel('signal amplitude [dB]')\n",
        "plt.legend()\n",
        "plt.show()"
      ],
      "metadata": {
        "colab": {
          "base_uri": "https://localhost:8080/",
          "height": 301
        },
        "id": "RtS4UGIUzuEd",
        "outputId": "44bfc009-a098-4137-8aab-dd6c36606dce"
      },
      "execution_count": 7,
      "outputs": [
        {
          "output_type": "display_data",
          "data": {
            "text/plain": [
              "<Figure size 432x288 with 1 Axes>"
            ],
            "image/png": "[encoded data removed]"
          },
          "metadata": {
            "needs_background": "light"
          }
        }
      ]
    },
    {
      "cell_type": "code",
      "source": [
        "fig, ax = plt.subplots()\n",
        "for f in os.listdir(path_water_result_folder):\n",
        "    direct_file_path = path_water_result_folder + f\n",
        "    df = pd.read_csv(direct_file_path,\n",
        "            header=0,\n",
        "            names = np.array(['signal wavelength [nm]','signal amplitude [dB]']\n",
        "                             ))\n",
        "    ax.plot(df['signal wavelength [nm]'],df['signal amplitude [dB]'], label = f)\n",
        "plt.title('water_result', fontsize=22)\n",
        "plt.xlabel('signal wavelength [nm]')\n",
        "plt.ylabel('signal amplitude [dB]')\n",
        "plt.legend()\n",
        "plt.show()"
      ],
      "metadata": {
        "colab": {
          "base_uri": "https://localhost:8080/",
          "height": 301
        },
        "id": "UfLLbg35z-q7",
        "outputId": "492751f2-7887-4212-b7f1-00931b607d95"
      },
      "execution_count": 8,
      "outputs": [
        {
          "output_type": "display_data",
          "data": {
            "text/plain": [
              "<Figure size 432x288 with 1 Axes>"
            ],
            "image/png": "[encoded data removed]"
          },
          "metadata": {
            "needs_background": "light"
          }
        }
      ]
    },
    {
      "cell_type": "markdown",
      "source": [
        "# Normalization test"
      ],
      "metadata": {
        "id": "OSvawGnpnv6M"
      }
    },
    {
      "cell_type": "markdown",
      "source": [
        "This test has been implemented due to check what kind of models will be used for modeling"
      ],
      "metadata": {
        "id": "bHJPDmoEnzmB"
      }
    },
    {
      "cell_type": "code",
      "source": [
        "fig, ax = plt.subplots()\n",
        "for f in sorted(os.listdir(path_water_result_folder)):\n",
        "    direct_file_path = path_water_result_folder + f\n",
        "    df = pd.read_csv(direct_file_path,\n",
        "            header=0,\n",
        "            names = np.array(['signal wavelength [nm]','signal amplitude [dB]']\n",
        "                             ))\n",
        "    ax.plot(df['signal wavelength [nm]'],df['signal amplitude [dB]']*(-1), label = f)\n",
        "plt.title('water_result', fontsize=22)\n",
        "plt.xlabel('signal wavelength [nm]')\n",
        "plt.ylabel('signal amplitude [dB]')\n",
        "plt.legend()\n",
        "plt.show()"
      ],
      "metadata": {
        "colab": {
          "base_uri": "https://localhost:8080/",
          "height": 301
        },
        "id": "IaYyq57ENFKJ",
        "outputId": "cbe803ea-7cf0-4241-9cc4-c8a3bd0a55cd"
      },
      "execution_count": 9,
      "outputs": [
        {
          "output_type": "display_data",
          "data": {
            "text/plain": [
              "<Figure size 432x288 with 1 Axes>"
            ],
            "image/png": "[encoded data removed]"
          },
          "metadata": {
            "needs_background": "light"
          }
        }
      ]
    },
    {
      "cell_type": "code",
      "source": [
        "counter = 1\n",
        "for f in sorted(os.listdir(path_water_result_folder)):\n",
        "    direct_file_path = path_water_result_folder + f\n",
        "    df = pd.read_csv(direct_file_path,\n",
        "            header=0,\n",
        "            names = np.array(['signal wavelength [nm]','signal amplitude [dB]']\n",
        "                             ))\n",
        "    stat, p = normaltest(df['signal amplitude [dB]'].dropna())\n",
        "    print(f'\\nNormal test no {counter}')\n",
        "    print('stat=%.3f, \\np=%.f' % (stat,p))\n",
        "    counter = counter+1\n",
        "    if p > alhpa:\n",
        "      print('Probability Gaussian')\n",
        "    else:\n",
        "      print('Probability NOT Gaussian')"
      ],
      "metadata": {
        "colab": {
          "base_uri": "https://localhost:8080/"
        },
        "id": "h3yevIu6axeC",
        "outputId": "36c272ad-ffc7-4e30-bdf9-c16aa0a26199"
      },
      "execution_count": 10,
      "outputs": [
        {
          "output_type": "stream",
          "name": "stdout",
          "text": [
            "\n",
            "Normal test no 1\n",
            "stat=1294.019, \n",
            "p=0\n",
            "Probability NOT Gaussian\n",
            "\n",
            "Normal test no 2\n",
            "stat=1764.348, \n",
            "p=0\n",
            "Probability NOT Gaussian\n",
            "\n",
            "Normal test no 3\n",
            "stat=1400.349, \n",
            "p=0\n",
            "Probability NOT Gaussian\n",
            "\n",
            "Normal test no 4\n",
            "stat=2450.268, \n",
            "p=0\n",
            "Probability NOT Gaussian\n",
            "\n",
            "Normal test no 5\n",
            "stat=1443.018, \n",
            "p=0\n",
            "Probability NOT Gaussian\n",
            "\n",
            "Normal test no 6\n",
            "stat=1998.638, \n",
            "p=0\n",
            "Probability NOT Gaussian\n",
            "\n",
            "Normal test no 7\n",
            "stat=1240.248, \n",
            "p=0\n",
            "Probability NOT Gaussian\n",
            "\n",
            "Normal test no 8\n",
            "stat=1786.909, \n",
            "p=0\n",
            "Probability NOT Gaussian\n",
            "\n",
            "Normal test no 9\n",
            "stat=2267.899, \n",
            "p=0\n",
            "Probability NOT Gaussian\n",
            "\n",
            "Normal test no 10\n",
            "stat=1755.009, \n",
            "p=0\n",
            "Probability NOT Gaussian\n"
          ]
        }
      ]
    },
    {
      "cell_type": "markdown",
      "source": [
        "Due to results of normalization tests, it has not been any GAUSSIAN distribution"
      ],
      "metadata": {
        "id": "l3P9HQyqn_tb"
      }
    },
    {
      "cell_type": "markdown",
      "source": [
        "# data exploration"
      ],
      "metadata": {
        "id": "mGlfy-ptoZfQ"
      }
    },
    {
      "cell_type": "code",
      "source": [
        "for f in os.listdir(path_water_result_folder):\n",
        "    direct_file_path = path_water_result_folder + f\n",
        "    df = pd.read_csv(direct_file_path,\n",
        "            header=0,\n",
        "            names = np.array(['signal wavelength [nm]','signal amplitude [dB]']))\n",
        "    print(df.describe())\n",
        "    "
      ],
      "metadata": {
        "colab": {
          "base_uri": "https://localhost:8080/"
        },
        "id": "oO4ggHq14uuE",
        "outputId": "659e0c20-3de2-4366-849a-a8a10f8cc362"
      },
      "execution_count": 11,
      "outputs": [
        {
          "output_type": "stream",
          "name": "stdout",
          "text": [
            "       signal wavelength [nm]  signal amplitude [dB]\n",
            "count            3.000000e+03            3000.000000\n",
            "mean             1.500050e-06              -2.742071\n",
            "std              8.661697e-08               6.383997\n",
            "min              1.350100e-06             -14.486000\n",
            "25%              1.425075e-06              -7.710775\n",
            "50%              1.500050e-06              -2.790100\n",
            "75%              1.575025e-06               3.161650\n",
            "max              1.650000e-06               7.374600\n",
            "       signal wavelength [nm]  signal amplitude [dB]\n",
            "count            3.000000e+03            3000.000000\n",
            "mean             1.500050e-06              -1.512439\n",
            "std              8.661697e-08               6.822813\n",
            "min              1.350100e-06             -14.003000\n",
            "25%              1.425075e-06              -6.861600\n",
            "50%              1.500050e-06              -1.868100\n",
            "75%              1.575025e-06               4.876350\n",
            "max              1.650000e-06               8.881000\n",
            "       signal wavelength [nm]  signal amplitude [dB]\n",
            "count            3.000000e+03            3000.000000\n",
            "mean             1.500050e-06              -1.595073\n",
            "std              8.661697e-08               6.921947\n",
            "min              1.350100e-06             -14.621000\n",
            "25%              1.425075e-06              -6.918025\n",
            "50%              1.500050e-06              -1.800200\n",
            "75%              1.575025e-06               4.843975\n",
            "max              1.650000e-06               8.850100\n",
            "       signal wavelength [nm]  signal amplitude [dB]\n",
            "count            3.000000e+03            3000.000000\n",
            "mean             1.500050e-06              -2.012819\n",
            "std              8.661697e-08               6.506085\n",
            "min              1.350100e-06             -14.073000\n",
            "25%              1.425075e-06              -7.017325\n",
            "50%              1.500050e-06              -2.042150\n",
            "75%              1.575025e-06               3.994625\n",
            "max              1.650000e-06               8.217700\n",
            "       signal wavelength [nm]  signal amplitude [dB]\n",
            "count            3.000000e+03            3000.000000\n",
            "mean             1.500050e-06              -0.923989\n",
            "std              8.661697e-08               6.501037\n",
            "min              1.350100e-06             -12.698000\n",
            "25%              1.425075e-06              -5.990050\n",
            "50%              1.500050e-06              -1.102850\n",
            "75%              1.575025e-06               5.149550\n",
            "max              1.650000e-06               9.284900\n",
            "       signal wavelength [nm]  signal amplitude [dB]\n",
            "count            3.000000e+03            3000.000000\n",
            "mean             1.500050e-06              -2.676408\n",
            "std              8.661697e-08               6.616723\n",
            "min              1.350100e-06             -14.673000\n",
            "25%              1.425075e-06              -7.921800\n",
            "50%              1.500050e-06              -3.013850\n",
            "75%              1.575025e-06               3.534775\n",
            "max              1.650000e-06               7.498800\n",
            "       signal wavelength [nm]  signal amplitude [dB]\n",
            "count            3.000000e+03            3000.000000\n",
            "mean             1.500050e-06              -1.404568\n",
            "std              8.661697e-08               6.365921\n",
            "min              1.350100e-06             -13.115000\n",
            "25%              1.425075e-06              -6.288850\n",
            "50%              1.500050e-06              -1.403000\n",
            "75%              1.575025e-06               4.476800\n",
            "max              1.650000e-06               8.561300\n",
            "       signal wavelength [nm]  signal amplitude [dB]\n",
            "count            3.000000e+03            3000.000000\n",
            "mean             1.500050e-06              -1.466069\n",
            "std              8.661697e-08               6.402215\n",
            "min              1.350100e-06             -13.008000\n",
            "25%              1.425075e-06              -6.470000\n",
            "50%              1.500050e-06              -1.551900\n",
            "75%              1.575025e-06               4.515225\n",
            "max              1.650000e-06               8.532700\n",
            "       signal wavelength [nm]  signal amplitude [dB]\n",
            "count            3.000000e+03            3000.000000\n",
            "mean             1.500050e-06              -0.960230\n",
            "std              8.661697e-08               6.501385\n",
            "min              1.350100e-06             -12.838000\n",
            "25%              1.425075e-06              -6.036525\n",
            "50%              1.500050e-06              -1.158150\n",
            "75%              1.575025e-06               5.114925\n",
            "max              1.650000e-06               9.210800\n",
            "       signal wavelength [nm]  signal amplitude [dB]\n",
            "count            3.000000e+03            3000.000000\n",
            "mean             1.500050e-06              -1.916953\n",
            "std              8.661697e-08               6.280604\n",
            "min              1.350100e-06             -13.387000\n",
            "25%              1.425075e-06              -6.880600\n",
            "50%              1.500050e-06              -2.183050\n",
            "75%              1.575025e-06               3.931700\n",
            "max              1.650000e-06               8.087200\n"
          ]
        }
      ]
    },
    {
      "cell_type": "code",
      "source": [
        "for f in os.listdir(path_isopropanol_result_folder):\n",
        "    direct_file_path = path_isopropanol_result_folder + f\n",
        "    df = pd.read_csv(direct_file_path,\n",
        "            header=0,\n",
        "            names = np.array(['signal wavelength [nm]','signal amplitude [dB]']))\n",
        "    print(df.describe())"
      ],
      "metadata": {
        "colab": {
          "base_uri": "https://localhost:8080/"
        },
        "id": "2UmuT6mQop9T",
        "outputId": "e6145ab7-3b6f-47de-a65f-56ed4294c644"
      },
      "execution_count": 12,
      "outputs": [
        {
          "output_type": "stream",
          "name": "stdout",
          "text": [
            "       signal wavelength [nm]  signal amplitude [dB]\n",
            "count            3.000000e+03            3000.000000\n",
            "mean             1.500050e-06              -2.021619\n",
            "std              8.661697e-08               6.923847\n",
            "min              1.350100e-06             -15.926000\n",
            "25%              1.425075e-06              -6.967850\n",
            "50%              1.500050e-06              -1.803150\n",
            "75%              1.575025e-06               4.297150\n",
            "max              1.650000e-06               8.462500\n",
            "       signal wavelength [nm]  signal amplitude [dB]\n",
            "count            3.000000e+03            3000.000000\n",
            "mean             1.500050e-06              -1.061530\n",
            "std              8.661697e-08               6.947915\n",
            "min              1.350100e-06             -14.701000\n",
            "25%              1.425075e-06              -6.115925\n",
            "50%              1.500050e-06              -0.940550\n",
            "75%              1.575025e-06               5.351150\n",
            "max              1.650000e-06               9.390000\n",
            "       signal wavelength [nm]  signal amplitude [dB]\n",
            "count            3.000000e+03            3000.000000\n",
            "mean             1.500050e-06              -2.749703\n",
            "std              8.661697e-08               6.736319\n",
            "min              1.350100e-06             -15.922000\n",
            "25%              1.425075e-06              -7.731050\n",
            "50%              1.500050e-06              -2.531750\n",
            "75%              1.575025e-06               3.393625\n",
            "max              1.650000e-06               7.533000\n",
            "       signal wavelength [nm]  signal amplitude [dB]\n",
            "count            3.000000e+03            3000.000000\n",
            "mean             1.500050e-06              -1.468947\n",
            "std              8.661697e-08               7.221361\n",
            "min              1.350100e-06             -15.878000\n",
            "25%              1.425075e-06              -6.764200\n",
            "50%              1.500050e-06              -1.471600\n",
            "75%              1.575025e-06               5.217675\n",
            "max              1.650000e-06               9.029500\n",
            "       signal wavelength [nm]  signal amplitude [dB]\n",
            "count            3.000000e+03            3000.000000\n",
            "mean             1.500050e-06              -1.522415\n",
            "std              8.661697e-08               6.864485\n",
            "min              1.350100e-06             -15.325000\n",
            "25%              1.425075e-06              -6.467675\n",
            "50%              1.500050e-06              -1.218600\n",
            "75%              1.575025e-06               4.757700\n",
            "max              1.650000e-06               8.787400\n",
            "       signal wavelength [nm]  signal amplitude [dB]\n",
            "count            3.000000e+03            3000.000000\n",
            "mean             1.500050e-06              -1.049681\n",
            "std              8.661697e-08               7.004747\n",
            "min              1.350100e-06             -14.997000\n",
            "25%              1.425075e-06              -6.089650\n",
            "50%              1.500050e-06              -0.920570\n",
            "75%              1.575025e-06               5.384375\n",
            "max              1.650000e-06               9.551500\n",
            "       signal wavelength [nm]  signal amplitude [dB]\n",
            "count            3.000000e+03            3000.000000\n",
            "mean             1.500050e-06              -2.672701\n",
            "std              8.661697e-08               6.962565\n",
            "min              1.350100e-06             -16.165000\n",
            "25%              1.425075e-06              -7.911575\n",
            "50%              1.500050e-06              -2.762500\n",
            "75%              1.575025e-06               3.816450\n",
            "max              1.650000e-06               7.669700\n",
            "       signal wavelength [nm]  signal amplitude [dB]\n",
            "count            3.000000e+03            3000.000000\n",
            "mean             1.500050e-06              -1.532349\n",
            "std              8.661697e-08               7.203438\n",
            "min              1.350100e-06             -15.902000\n",
            "25%              1.425075e-06              -6.872900\n",
            "50%              1.500050e-06              -1.579550\n",
            "75%              1.575025e-06               5.103550\n",
            "max              1.650000e-06               9.026400\n",
            "       signal wavelength [nm]  signal amplitude [dB]\n",
            "count            3.000000e+03            3000.000000\n",
            "mean             1.500050e-06              -2.028126\n",
            "std              8.661697e-08               6.702931\n",
            "min              1.350100e-06             -14.925000\n",
            "25%              1.425075e-06              -7.077700\n",
            "50%              1.500050e-06              -1.973900\n",
            "75%              1.575025e-06               4.163650\n",
            "max              1.650000e-06               8.264100\n",
            "       signal wavelength [nm]  signal amplitude [dB]\n",
            "count            3.000000e+03            3000.000000\n",
            "mean             1.500050e-06              -1.582638\n",
            "std              8.661697e-08               6.913134\n",
            "min              1.350100e-06             -15.307000\n",
            "25%              1.425075e-06              -6.582575\n",
            "50%              1.500050e-06              -1.345000\n",
            "75%              1.575025e-06               4.756625\n",
            "max              1.650000e-06               8.732200\n"
          ]
        }
      ]
    },
    {
      "cell_type": "code",
      "source": [
        "for f in os.listdir(path_air_result_folder):\n",
        "    direct_file_path = path_air_result_folder + f\n",
        "    df = pd.read_csv(direct_file_path,\n",
        "            header=0,\n",
        "            names = np.array(['signal wavelength [nm]','signal amplitude [dB]']))\n",
        "    print(df.describe())"
      ],
      "metadata": {
        "colab": {
          "base_uri": "https://localhost:8080/"
        },
        "id": "HW30G8S_pKS3",
        "outputId": "303cc7ab-5677-4974-dc7d-e72fd70fd89d"
      },
      "execution_count": 13,
      "outputs": [
        {
          "output_type": "stream",
          "name": "stdout",
          "text": [
            "       signal wavelength [nm]  signal amplitude [dB]\n",
            "count            3.000000e+03            3000.000000\n",
            "mean             1.500050e-06               1.533059\n",
            "std              8.661697e-08               4.884058\n",
            "min              1.350100e-06              -6.887100\n",
            "25%              1.425075e-06              -2.483600\n",
            "50%              1.500050e-06               1.746600\n",
            "75%              1.575025e-06               5.552550\n",
            "max              1.650000e-06              10.003000\n",
            "       signal wavelength [nm]  signal amplitude [dB]\n",
            "count            3.000000e+03            3000.000000\n",
            "mean             1.500050e-06              -0.247946\n",
            "std              8.661697e-08               4.815462\n",
            "min              1.350100e-06              -8.727300\n",
            "25%              1.425075e-06              -4.170700\n",
            "50%              1.500050e-06               0.126925\n",
            "75%              1.575025e-06               3.560650\n",
            "max              1.650000e-06               8.101000\n",
            "       signal wavelength [nm]  signal amplitude [dB]\n",
            "count            3.000000e+03            3000.000000\n",
            "mean             1.500050e-06              -0.265711\n",
            "std              8.661697e-08               4.982635\n",
            "min              1.350100e-06              -8.798200\n",
            "25%              1.425075e-06              -4.383050\n",
            "50%              1.500050e-06              -0.130425\n",
            "75%              1.575025e-06               4.042750\n",
            "max              1.650000e-06               8.264200\n",
            "       signal wavelength [nm]  signal amplitude [dB]\n",
            "count            3.000000e+03            3000.000000\n",
            "mean             1.500050e-06               0.631862\n",
            "std              8.661697e-08               4.760798\n",
            "min              1.350100e-06              -7.562100\n",
            "25%              1.425075e-06              -3.261750\n",
            "50%              1.500050e-06               0.910100\n",
            "75%              1.575025e-06               4.412750\n",
            "max              1.650000e-06               9.008600\n",
            "       signal wavelength [nm]  signal amplitude [dB]\n",
            "count            3.000000e+03            3000.000000\n",
            "mean             1.500050e-06               1.439774\n",
            "std              8.661697e-08               4.929759\n",
            "min              1.350100e-06              -7.119500\n",
            "25%              1.425075e-06              -2.598050\n",
            "50%              1.500050e-06               1.712950\n",
            "75%              1.575025e-06               5.547750\n",
            "max              1.650000e-06               9.869500\n",
            "       signal wavelength [nm]  signal amplitude [dB]\n",
            "count            3.000000e+03            3000.000000\n",
            "mean             1.500050e-06               1.187713\n",
            "std              8.661697e-08               4.722722\n",
            "min              1.350100e-06              -7.151200\n",
            "25%              1.425075e-06              -2.635050\n",
            "50%              1.500050e-06               1.615850\n",
            "75%              1.575025e-06               4.879975\n",
            "max              1.650000e-06               9.253300\n",
            "       signal wavelength [nm]  signal amplitude [dB]\n",
            "count            3.000000e+03            3000.000000\n",
            "mean             1.500050e-06               1.253988\n",
            "std              8.661697e-08               4.873983\n",
            "min              1.350100e-06              -6.907600\n",
            "25%              1.425075e-06              -2.803900\n",
            "50%              1.500050e-06               1.290800\n",
            "75%              1.575025e-06               5.503450\n",
            "max              1.650000e-06               9.664500\n",
            "       signal wavelength [nm]  signal amplitude [dB]\n",
            "count            3.000000e+03            3000.000000\n",
            "mean             1.500050e-06               0.325769\n",
            "std              8.661697e-08               4.899482\n",
            "min              1.350100e-06              -8.218300\n",
            "25%              1.425075e-06              -3.650800\n",
            "50%              1.500050e-06               0.649495\n",
            "75%              1.575025e-06               4.291350\n",
            "max              1.650000e-06               8.779600\n",
            "       signal wavelength [nm]  signal amplitude [dB]\n",
            "count            3.000000e+03            3000.000000\n",
            "mean             1.500050e-06               1.096611\n",
            "std              8.661697e-08               4.955964\n",
            "min              1.350100e-06              -7.281600\n",
            "25%              1.425075e-06              -3.016025\n",
            "50%              1.500050e-06               1.120850\n",
            "75%              1.575025e-06               5.421225\n",
            "max              1.650000e-06               9.626400\n",
            "       signal wavelength [nm]  signal amplitude [dB]\n",
            "count            3.000000e+03            3000.000000\n",
            "mean             1.500050e-06               1.015490\n",
            "std              8.661697e-08               4.795735\n",
            "min              1.350100e-06              -7.358100\n",
            "25%              1.425075e-06              -2.930775\n",
            "50%              1.500050e-06               1.329250\n",
            "75%              1.575025e-06               4.906475\n",
            "max              1.650000e-06               9.331200\n"
          ]
        }
      ]
    },
    {
      "cell_type": "markdown",
      "source": [
        "Based on DF descriptions is possible to go further with analysis.\n"
      ],
      "metadata": {
        "id": "9R3BBfg-o9D2"
      }
    },
    {
      "cell_type": "markdown",
      "source": [
        "# create a new DF with selected files"
      ],
      "metadata": {
        "id": "xjn_pi_2pXrv"
      }
    },
    {
      "cell_type": "code",
      "source": [
        "water_frames = []\n",
        "for f in sorted(os.listdir(path_water_result_folder)):\n",
        "    direct_file_path = path_water_result_folder + f\n",
        "    df = pd.read_csv(direct_file_path,\n",
        "            header=0,\n",
        "            names = np.array(['water_frames signal wavelength [nm]','water_frames signal amplitude [dB]']))\n",
        "    df['sensor_no'] = f.split('_')[0]\n",
        "    df['water_frames signal wavelength [nm]']=df['water_frames signal wavelength [nm]']*10**9\n",
        "    water_frames.append(df)\n",
        "\n",
        "combine_dfs_water_result = pd.concat(water_frames)\n",
        "combine_dfs_water_result.value_counts('sensor_no')"
      ],
      "metadata": {
        "colab": {
          "base_uri": "https://localhost:8080/"
        },
        "id": "2DW4vxi18gU7",
        "outputId": "465aef19-55c4-499e-f9f8-4d4a191a04d8"
      },
      "execution_count": 14,
      "outputs": [
        {
          "output_type": "execute_result",
          "data": {
            "text/plain": [
              "sensor_no\n",
              "sensor01    3000\n",
              "sensor02    3000\n",
              "sensor03    3000\n",
              "sensor04    3000\n",
              "sensor05    3000\n",
              "sensor06    3000\n",
              "sensor07    3000\n",
              "sensor08    3000\n",
              "sensor09    3000\n",
              "sensor10    3000\n",
              "dtype: int64"
            ]
          },
          "metadata": {},
          "execution_count": 14
        }
      ]
    },
    {
      "cell_type": "code",
      "source": [
        "izo_frames = []\n",
        "for f in sorted(os.listdir(path_isopropanol_result_folder)):\n",
        "    direct_file_path = path_isopropanol_result_folder + f\n",
        "    df = pd.read_csv(direct_file_path,\n",
        "            header=0,\n",
        "            names = np.array(['izo_frames signal wavelength  [nm]','izo_frames signal amplitude [dB]']))\n",
        "    df['sensor_no'] = f.split('_')[0]\n",
        "    df['izo_frames signal wavelength  [nm]']=df['izo_frames signal wavelength  [nm]']*10**9\n",
        "    izo_frames.append(df)\n",
        "\n",
        "combine_dfs_isopropanol_result = pd.concat(izo_frames)\n",
        "combine_dfs_isopropanol_result.value_counts('sensor_no')"
      ],
      "metadata": {
        "colab": {
          "base_uri": "https://localhost:8080/"
        },
        "id": "qspTbPsLB7Xe",
        "outputId": "86cad8ba-2026-4071-befc-e91b5568424a"
      },
      "execution_count": 15,
      "outputs": [
        {
          "output_type": "execute_result",
          "data": {
            "text/plain": [
              "sensor_no\n",
              "sensor01    3000\n",
              "sensor02    3000\n",
              "sensor03    3000\n",
              "sensor04    3000\n",
              "sensor05    3000\n",
              "sensor06    3000\n",
              "sensor07    3000\n",
              "sensor08    3000\n",
              "sensor09    3000\n",
              "sensor10    3000\n",
              "dtype: int64"
            ]
          },
          "metadata": {},
          "execution_count": 15
        }
      ]
    },
    {
      "cell_type": "code",
      "source": [
        "air_frames = []\n",
        "for f in sorted(os.listdir(path_air_result_folder)):\n",
        "    direct_file_path = path_air_result_folder + f\n",
        "    df = pd.read_csv(direct_file_path,\n",
        "            header=0,\n",
        "            names = np.array(['air_frames signal wavelength [nm]','air_frames signal amplitude [dB]']))\n",
        "    df['sensor_no'] = f.split('_')[0]\n",
        "    df['air_frames signal wavelength [nm]']=df['air_frames signal wavelength [nm]']*10**9\n",
        "    air_frames.append(df)\n",
        "\n",
        "combine_dfs_air_result = pd.concat(air_frames)\n",
        "combine_dfs_air_result.value_counts('sensor_no')"
      ],
      "metadata": {
        "colab": {
          "base_uri": "https://localhost:8080/"
        },
        "id": "CRpZ3jH9CcRZ",
        "outputId": "32bd2beb-13e5-4f02-f328-a09115e05774"
      },
      "execution_count": 16,
      "outputs": [
        {
          "output_type": "execute_result",
          "data": {
            "text/plain": [
              "sensor_no\n",
              "sensor01    3000\n",
              "sensor02    3000\n",
              "sensor03    3000\n",
              "sensor04    3000\n",
              "sensor05    3000\n",
              "sensor06    3000\n",
              "sensor07    3000\n",
              "sensor08    3000\n",
              "sensor09    3000\n",
              "sensor10    3000\n",
              "dtype: int64"
            ]
          },
          "metadata": {},
          "execution_count": 16
        }
      ]
    },
    {
      "cell_type": "markdown",
      "source": [
        "# Verification after combining data to big DF"
      ],
      "metadata": {
        "id": "3Mv83XQaphqo"
      }
    },
    {
      "cell_type": "code",
      "source": [
        "combine_dfs_air_result.dtypes\n",
        "combine_dfs_air_result.describe()"
      ],
      "metadata": {
        "colab": {
          "base_uri": "https://localhost:8080/",
          "height": 300
        },
        "id": "iNSnbwY-RUW8",
        "outputId": "80486e8b-ad82-4710-92a1-5b2998154677"
      },
      "execution_count": 17,
      "outputs": [
        {
          "output_type": "execute_result",
          "data": {
            "text/plain": [
              "       air_frames signal wavelength [nm]  air_frames signal amplitude [dB]\n",
              "count                       30000.000000                      30000.000000\n",
              "mean                         1500.050000                          0.797061\n",
              "std                            86.603979                          4.902206\n",
              "min                          1350.100000                         -8.798200\n",
              "25%                          1425.075000                         -3.205775\n",
              "50%                          1500.050000                          1.007150\n",
              "75%                          1575.025000                          4.790600\n",
              "max                          1650.000000                         10.003000"
            ],
            "text/html": [
              "\n",
              "  <div id=\"df-43ee1fc6-0843-40cc-a50e-dd259b4203b6\">\n",
              "    <div class=\"colab-df-container\">\n",
              "      <div>\n",
              "<style scoped>\n",
              "    .dataframe tbody tr th:only-of-type {\n",
              "        vertical-align: middle;\n",
              "    }\n",
              "\n",
              "    .dataframe tbody tr th {\n",
              "        vertical-align: top;\n",
              "    }\n",
              "\n",
              "    .dataframe thead th {\n",
              "        text-align: right;\n",
              "    }\n",
              "</style>\n",
              "<table border=\"1\" class=\"dataframe\">\n",
              "  <thead>\n",
              "    <tr style=\"text-align: right;\">\n",
              "      <th></th>\n",
              "      <th>air_frames signal wavelength [nm]</th>\n",
              "      <th>air_frames signal amplitude [dB]</th>\n",
              "    </tr>\n",
              "  </thead>\n",
              "  <tbody>\n",
              "    <tr>\n",
              "      <th>count</th>\n",
              "      <td>30000.000000</td>\n",
              "      <td>30000.000000</td>\n",
              "    </tr>\n",
              "    <tr>\n",
              "      <th>mean</th>\n",
              "      <td>1500.050000</td>\n",
              "      <td>0.797061</td>\n",
              "    </tr>\n",
              "    <tr>\n",
              "      <th>std</th>\n",
              "      <td>86.603979</td>\n",
              "      <td>4.902206</td>\n",
              "    </tr>\n",
              "    <tr>\n",
              "      <th>min</th>\n",
              "      <td>1350.100000</td>\n",
              "      <td>-8.798200</td>\n",
              "    </tr>\n",
              "    <tr>\n",
              "      <th>25%</th>\n",
              "      <td>1425.075000</td>\n",
              "      <td>-3.205775</td>\n",
              "    </tr>\n",
              "    <tr>\n",
              "      <th>50%</th>\n",
              "      <td>1500.050000</td>\n",
              "      <td>1.007150</td>\n",
              "    </tr>\n",
              "    <tr>\n",
              "      <th>75%</th>\n",
              "      <td>1575.025000</td>\n",
              "      <td>4.790600</td>\n",
              "    </tr>\n",
              "    <tr>\n",
              "      <th>max</th>\n",
              "      <td>1650.000000</td>\n",
              "      <td>10.003000</td>\n",
              "    </tr>\n",
              "  </tbody>\n",
              "</table>\n",
              "</div>\n",
              "      <button class=\"colab-df-convert\" onclick=\"convertToInteractive('df-43ee1fc6-0843-40cc-a50e-dd259b4203b6')\"\n",
              "              title=\"Convert this dataframe to an interactive table.\"\n",
              "              style=\"display:none;\">\n",
              "        \n",
              "  <svg xmlns=\"http://www.w3.org/2000/svg\" height=\"24px\"viewBox=\"0 0 24 24\"\n",
              "       width=\"24px\">\n",
              "    <path d=\"M0 0h24v24H0V0z\" fill=\"none\"/>\n",
              "    <path d=\"M18.56 5.44l.94 2.06.94-2.06 2.06-.94-2.06-.94-.94-2.06-.94 2.06-2.06.94zm-11 1L8.5 8.5l.94-2.06 2.06-.94-2.06-.94L8.5 2.5l-.94 2.06-2.06.94zm10 10l.94 2.06.94-2.06 2.06-.94-2.06-.94-.94-2.06-.94 2.06-2.06.94z\"/><path d=\"M17.41 7.96l-1.37-1.37c-.4-.4-.92-.59-1.43-.59-.52 0-1.04.2-1.43.59L10.3 9.45l-7.72 7.72c-.78.78-.78 2.05 0 2.83L4 21.41c.39.39.9.59 1.41.59.51 0 1.02-.2 1.41-.59l7.78-7.78 2.81-2.81c.8-.78.8-2.07 0-2.86zM5.41 20L4 18.59l7.72-7.72 1.47 1.35L5.41 20z\"/>\n",
              "  </svg>\n",
              "      </button>\n",
              "      \n",
              "  <style>\n",
              "    .colab-df-container {\n",
              "      display:flex;\n",
              "      flex-wrap:wrap;\n",
              "      gap: 12px;\n",
              "    }\n",
              "\n",
              "    .colab-df-convert {\n",
              "      background-color: #E8F0FE;\n",
              "      border: none;\n",
              "      border-radius: 50%;\n",
              "      cursor: pointer;\n",
              "      display: none;\n",
              "      fill: #1967D2;\n",
              "      height: 32px;\n",
              "      padding: 0 0 0 0;\n",
              "      width: 32px;\n",
              "    }\n",
              "\n",
              "    .colab-df-convert:hover {\n",
              "      background-color: #E2EBFA;\n",
              "      box-shadow: 0px 1px 2px rgba(60, 64, 67, 0.3), 0px 1px 3px 1px rgba(60, 64, 67, 0.15);\n",
              "      fill: #174EA6;\n",
              "    }\n",
              "\n",
              "    [theme=dark] .colab-df-convert {\n",
              "      background-color: #3B4455;\n",
              "      fill: #D2E3FC;\n",
              "    }\n",
              "\n",
              "    [theme=dark] .colab-df-convert:hover {\n",
              "      background-color: #434B5C;\n",
              "      box-shadow: 0px 1px 3px 1px rgba(0, 0, 0, 0.15);\n",
              "      filter: drop-shadow(0px 1px 2px rgba(0, 0, 0, 0.3));\n",
              "      fill: #FFFFFF;\n",
              "    }\n",
              "  </style>\n",
              "\n",
              "      <script>\n",
              "        const buttonEl =\n",
              "          document.querySelector('#df-43ee1fc6-0843-40cc-a50e-dd259b4203b6 button.colab-df-convert');\n",
              "        buttonEl.style.display =\n",
              "          google.colab.kernel.accessAllowed ? 'block' : 'none';\n",
              "\n",
              "        async function convertToInteractive(key) {\n",
              "          const element = document.querySelector('#df-43ee1fc6-0843-40cc-a50e-dd259b4203b6');\n",
              "          const dataTable =\n",
              "            await google.colab.kernel.invokeFunction('convertToInteractive',\n",
              "                                                     [key], {});\n",
              "          if (!dataTable) return;\n",
              "\n",
              "          const docLinkHtml = 'Like what you see? Visit the ' +\n",
              "            '<a target=\"_blank\" href=https://colab.research.google.com/notebooks/data_table.ipynb>data table notebook</a>'\n",
              "            + ' to learn more about interactive tables.';\n",
              "          element.innerHTML = '';\n",
              "          dataTable['output_type'] = 'display_data';\n",
              "          await google.colab.output.renderOutput(dataTable, element);\n",
              "          const docLink = document.createElement('div');\n",
              "          docLink.innerHTML = docLinkHtml;\n",
              "          element.appendChild(docLink);\n",
              "        }\n",
              "      </script>\n",
              "    </div>\n",
              "  </div>\n",
              "  "
            ]
          },
          "metadata": {},
          "execution_count": 17
        }
      ]
    },
    {
      "cell_type": "code",
      "source": [
        "combine_dfs_air_result.std()"
      ],
      "metadata": {
        "colab": {
          "base_uri": "https://localhost:8080/"
        },
        "id": "R4hS4XT2DS8f",
        "outputId": "980d4f81-5573-4560-8c1f-5f3edca5b63b"
      },
      "execution_count": 18,
      "outputs": [
        {
          "output_type": "stream",
          "name": "stderr",
          "text": [
            "<ipython-input-18-9034224be54e>:1: FutureWarning: Dropping of nuisance columns in DataFrame reductions (with 'numeric_only=None') is deprecated; in a future version this will raise TypeError.  Select only valid columns before calling the reduction.\n",
            "  combine_dfs_air_result.std()\n"
          ]
        },
        {
          "output_type": "execute_result",
          "data": {
            "text/plain": [
              "air_frames signal wavelength [nm]    86.603979\n",
              "air_frames signal amplitude [dB]      4.902206\n",
              "dtype: float64"
            ]
          },
          "metadata": {},
          "execution_count": 18
        }
      ]
    },
    {
      "cell_type": "code",
      "source": [
        "group_sensor_by_min_dB = combine_dfs_air_result.groupby('sensor_no').agg({'air_frames signal wavelength [nm]':'min'})"
      ],
      "metadata": {
        "id": "9Tedss5tDupT"
      },
      "execution_count": 19,
      "outputs": []
    },
    {
      "cell_type": "code",
      "source": [
        "combine_dfs_isopropanol_result[combine_dfs_isopropanol_result.columns]"
      ],
      "metadata": {
        "colab": {
          "base_uri": "https://localhost:8080/",
          "height": 424
        },
        "id": "ORm1E1gjeHNj",
        "outputId": "1c0c4636-da48-4189-9e4a-9b1b8e153083"
      },
      "execution_count": 20,
      "outputs": [
        {
          "output_type": "execute_result",
          "data": {
            "text/plain": [
              "      izo_frames signal wavelength  [nm]  izo_frames signal amplitude [dB]  \\\n",
              "0                                 1350.1                           8.67500   \n",
              "1                                 1350.2                           8.71160   \n",
              "2                                 1350.3                           8.71570   \n",
              "3                                 1350.4                           8.67920   \n",
              "4                                 1350.5                           8.63120   \n",
              "...                                  ...                               ...   \n",
              "2995                              1649.6                          -0.61478   \n",
              "2996                              1649.7                          -0.53629   \n",
              "2997                              1649.8                          -0.81838   \n",
              "2998                              1649.9                          -0.57202   \n",
              "2999                              1650.0                          -0.42871   \n",
              "\n",
              "     sensor_no  \n",
              "0     sensor01  \n",
              "1     sensor01  \n",
              "2     sensor01  \n",
              "3     sensor01  \n",
              "4     sensor01  \n",
              "...        ...  \n",
              "2995  sensor10  \n",
              "2996  sensor10  \n",
              "2997  sensor10  \n",
              "2998  sensor10  \n",
              "2999  sensor10  \n",
              "\n",
              "[30000 rows x 3 columns]"
            ],
            "text/html": [
              "\n",
              "  <div id=\"df-7668a4cf-33bf-41c4-a5b0-6319b8987280\">\n",
              "    <div class=\"colab-df-container\">\n",
              "      <div>\n",
              "<style scoped>\n",
              "    .dataframe tbody tr th:only-of-type {\n",
              "        vertical-align: middle;\n",
              "    }\n",
              "\n",
              "    .dataframe tbody tr th {\n",
              "        vertical-align: top;\n",
              "    }\n",
              "\n",
              "    .dataframe thead th {\n",
              "        text-align: right;\n",
              "    }\n",
              "</style>\n",
              "<table border=\"1\" class=\"dataframe\">\n",
              "  <thead>\n",
              "    <tr style=\"text-align: right;\">\n",
              "      <th></th>\n",
              "      <th>izo_frames signal wavelength  [nm]</th>\n",
              "      <th>izo_frames signal amplitude [dB]</th>\n",
              "      <th>sensor_no</th>\n",
              "    </tr>\n",
              "  </thead>\n",
              "  <tbody>\n",
              "    <tr>\n",
              "      <th>0</th>\n",
              "      <td>1350.1</td>\n",
              "      <td>8.67500</td>\n",
              "      <td>sensor01</td>\n",
              "    </tr>\n",
              "    <tr>\n",
              "      <th>1</th>\n",
              "      <td>1350.2</td>\n",
              "      <td>8.71160</td>\n",
              "      <td>sensor01</td>\n",
              "    </tr>\n",
              "    <tr>\n",
              "      <th>2</th>\n",
              "      <td>1350.3</td>\n",
              "      <td>8.71570</td>\n",
              "      <td>sensor01</td>\n",
              "    </tr>\n",
              "    <tr>\n",
              "      <th>3</th>\n",
              "      <td>1350.4</td>\n",
              "      <td>8.67920</td>\n",
              "      <td>sensor01</td>\n",
              "    </tr>\n",
              "    <tr>\n",
              "      <th>4</th>\n",
              "      <td>1350.5</td>\n",
              "      <td>8.63120</td>\n",
              "      <td>sensor01</td>\n",
              "    </tr>\n",
              "    <tr>\n",
              "      <th>...</th>\n",
              "      <td>...</td>\n",
              "      <td>...</td>\n",
              "      <td>...</td>\n",
              "    </tr>\n",
              "    <tr>\n",
              "      <th>2995</th>\n",
              "      <td>1649.6</td>\n",
              "      <td>-0.61478</td>\n",
              "      <td>sensor10</td>\n",
              "    </tr>\n",
              "    <tr>\n",
              "      <th>2996</th>\n",
              "      <td>1649.7</td>\n",
              "      <td>-0.53629</td>\n",
              "      <td>sensor10</td>\n",
              "    </tr>\n",
              "    <tr>\n",
              "      <th>2997</th>\n",
              "      <td>1649.8</td>\n",
              "      <td>-0.81838</td>\n",
              "      <td>sensor10</td>\n",
              "    </tr>\n",
              "    <tr>\n",
              "      <th>2998</th>\n",
              "      <td>1649.9</td>\n",
              "      <td>-0.57202</td>\n",
              "      <td>sensor10</td>\n",
              "    </tr>\n",
              "    <tr>\n",
              "      <th>2999</th>\n",
              "      <td>1650.0</td>\n",
              "      <td>-0.42871</td>\n",
              "      <td>sensor10</td>\n",
              "    </tr>\n",
              "  </tbody>\n",
              "</table>\n",
              "<p>30000 rows × 3 columns</p>\n",
              "</div>\n",
              "      <button class=\"colab-df-convert\" onclick=\"convertToInteractive('df-7668a4cf-33bf-41c4-a5b0-6319b8987280')\"\n",
              "              title=\"Convert this dataframe to an interactive table.\"\n",
              "              style=\"display:none;\">\n",
              "        \n",
              "  <svg xmlns=\"http://www.w3.org/2000/svg\" height=\"24px\"viewBox=\"0 0 24 24\"\n",
              "       width=\"24px\">\n",
              "    <path d=\"M0 0h24v24H0V0z\" fill=\"none\"/>\n",
              "    <path d=\"M18.56 5.44l.94 2.06.94-2.06 2.06-.94-2.06-.94-.94-2.06-.94 2.06-2.06.94zm-11 1L8.5 8.5l.94-2.06 2.06-.94-2.06-.94L8.5 2.5l-.94 2.06-2.06.94zm10 10l.94 2.06.94-2.06 2.06-.94-2.06-.94-.94-2.06-.94 2.06-2.06.94z\"/><path d=\"M17.41 7.96l-1.37-1.37c-.4-.4-.92-.59-1.43-.59-.52 0-1.04.2-1.43.59L10.3 9.45l-7.72 7.72c-.78.78-.78 2.05 0 2.83L4 21.41c.39.39.9.59 1.41.59.51 0 1.02-.2 1.41-.59l7.78-7.78 2.81-2.81c.8-.78.8-2.07 0-2.86zM5.41 20L4 18.59l7.72-7.72 1.47 1.35L5.41 20z\"/>\n",
              "  </svg>\n",
              "      </button>\n",
              "      \n",
              "  <style>\n",
              "    .colab-df-container {\n",
              "      display:flex;\n",
              "      flex-wrap:wrap;\n",
              "      gap: 12px;\n",
              "    }\n",
              "\n",
              "    .colab-df-convert {\n",
              "      background-color: #E8F0FE;\n",
              "      border: none;\n",
              "      border-radius: 50%;\n",
              "      cursor: pointer;\n",
              "      display: none;\n",
              "      fill: #1967D2;\n",
              "      height: 32px;\n",
              "      padding: 0 0 0 0;\n",
              "      width: 32px;\n",
              "    }\n",
              "\n",
              "    .colab-df-convert:hover {\n",
              "      background-color: #E2EBFA;\n",
              "      box-shadow: 0px 1px 2px rgba(60, 64, 67, 0.3), 0px 1px 3px 1px rgba(60, 64, 67, 0.15);\n",
              "      fill: #174EA6;\n",
              "    }\n",
              "\n",
              "    [theme=dark] .colab-df-convert {\n",
              "      background-color: #3B4455;\n",
              "      fill: #D2E3FC;\n",
              "    }\n",
              "\n",
              "    [theme=dark] .colab-df-convert:hover {\n",
              "      background-color: #434B5C;\n",
              "      box-shadow: 0px 1px 3px 1px rgba(0, 0, 0, 0.15);\n",
              "      filter: drop-shadow(0px 1px 2px rgba(0, 0, 0, 0.3));\n",
              "      fill: #FFFFFF;\n",
              "    }\n",
              "  </style>\n",
              "\n",
              "      <script>\n",
              "        const buttonEl =\n",
              "          document.querySelector('#df-7668a4cf-33bf-41c4-a5b0-6319b8987280 button.colab-df-convert');\n",
              "        buttonEl.style.display =\n",
              "          google.colab.kernel.accessAllowed ? 'block' : 'none';\n",
              "\n",
              "        async function convertToInteractive(key) {\n",
              "          const element = document.querySelector('#df-7668a4cf-33bf-41c4-a5b0-6319b8987280');\n",
              "          const dataTable =\n",
              "            await google.colab.kernel.invokeFunction('convertToInteractive',\n",
              "                                                     [key], {});\n",
              "          if (!dataTable) return;\n",
              "\n",
              "          const docLinkHtml = 'Like what you see? Visit the ' +\n",
              "            '<a target=\"_blank\" href=https://colab.research.google.com/notebooks/data_table.ipynb>data table notebook</a>'\n",
              "            + ' to learn more about interactive tables.';\n",
              "          element.innerHTML = '';\n",
              "          dataTable['output_type'] = 'display_data';\n",
              "          await google.colab.output.renderOutput(dataTable, element);\n",
              "          const docLink = document.createElement('div');\n",
              "          docLink.innerHTML = docLinkHtml;\n",
              "          element.appendChild(docLink);\n",
              "        }\n",
              "      </script>\n",
              "    </div>\n",
              "  </div>\n",
              "  "
            ]
          },
          "metadata": {},
          "execution_count": 20
        }
      ]
    },
    {
      "cell_type": "markdown",
      "source": [
        "# Create BIG DATA FRAME which is collecting results for all mediums for fibers"
      ],
      "metadata": {
        "id": "rgA0OTkKprEh"
      }
    },
    {
      "cell_type": "code",
      "source": [
        "all_datas_gather = pd.concat([combine_dfs_air_result, combine_dfs_isopropanol_result, combine_dfs_water_result], axis=1)\n",
        "all_datas_gather"
      ],
      "metadata": {
        "id": "D-CShG9igqWb",
        "colab": {
          "base_uri": "https://localhost:8080/",
          "height": 540
        },
        "outputId": "2592fe0f-6796-4f99-b1e9-1be597a68564"
      },
      "execution_count": 21,
      "outputs": [
        {
          "output_type": "execute_result",
          "data": {
            "text/plain": [
              "      air_frames signal wavelength [nm]  air_frames signal amplitude [dB]  \\\n",
              "0                                1350.1                            9.2003   \n",
              "1                                1350.2                            9.1968   \n",
              "2                                1350.3                            9.1028   \n",
              "3                                1350.4                            9.0601   \n",
              "4                                1350.5                            9.1118   \n",
              "...                                 ...                               ...   \n",
              "2995                             1649.6                            3.2784   \n",
              "2996                             1649.7                            3.4213   \n",
              "2997                             1649.8                            3.3112   \n",
              "2998                             1649.9                            3.4500   \n",
              "2999                             1650.0                            3.6370   \n",
              "\n",
              "     sensor_no  izo_frames signal wavelength  [nm]  \\\n",
              "0     sensor01                              1350.1   \n",
              "1     sensor01                              1350.2   \n",
              "2     sensor01                              1350.3   \n",
              "3     sensor01                              1350.4   \n",
              "4     sensor01                              1350.5   \n",
              "...        ...                                 ...   \n",
              "2995  sensor10                              1649.6   \n",
              "2996  sensor10                              1649.7   \n",
              "2997  sensor10                              1649.8   \n",
              "2998  sensor10                              1649.9   \n",
              "2999  sensor10                              1650.0   \n",
              "\n",
              "      izo_frames signal amplitude [dB] sensor_no  \\\n",
              "0                              8.67500  sensor01   \n",
              "1                              8.71160  sensor01   \n",
              "2                              8.71570  sensor01   \n",
              "3                              8.67920  sensor01   \n",
              "4                              8.63120  sensor01   \n",
              "...                                ...       ...   \n",
              "2995                          -0.61478  sensor10   \n",
              "2996                          -0.53629  sensor10   \n",
              "2997                          -0.81838  sensor10   \n",
              "2998                          -0.57202  sensor10   \n",
              "2999                          -0.42871  sensor10   \n",
              "\n",
              "      water_frames signal wavelength [nm]  water_frames signal amplitude [dB]  \\\n",
              "0                                  1350.1                             8.42870   \n",
              "1                                  1350.2                             8.44220   \n",
              "2                                  1350.3                             8.41440   \n",
              "3                                  1350.4                             8.40340   \n",
              "4                                  1350.5                             8.33510   \n",
              "...                                   ...                                 ...   \n",
              "2995                               1649.6                            -0.86565   \n",
              "2996                               1649.7                            -0.84435   \n",
              "2997                               1649.8                            -0.97383   \n",
              "2998                               1649.9                            -0.63849   \n",
              "2999                               1650.0                            -0.75215   \n",
              "\n",
              "     sensor_no  \n",
              "0     sensor01  \n",
              "1     sensor01  \n",
              "2     sensor01  \n",
              "3     sensor01  \n",
              "4     sensor01  \n",
              "...        ...  \n",
              "2995  sensor10  \n",
              "2996  sensor10  \n",
              "2997  sensor10  \n",
              "2998  sensor10  \n",
              "2999  sensor10  \n",
              "\n",
              "[30000 rows x 9 columns]"
            ],
            "text/html": [
              "\n",
              "  <div id=\"df-37e22803-277f-47fc-926b-21df96cf0554\">\n",
              "    <div class=\"colab-df-container\">\n",
              "      <div>\n",
              "<style scoped>\n",
              "    .dataframe tbody tr th:only-of-type {\n",
              "        vertical-align: middle;\n",
              "    }\n",
              "\n",
              "    .dataframe tbody tr th {\n",
              "        vertical-align: top;\n",
              "    }\n",
              "\n",
              "    .dataframe thead th {\n",
              "        text-align: right;\n",
              "    }\n",
              "</style>\n",
              "<table border=\"1\" class=\"dataframe\">\n",
              "  <thead>\n",
              "    <tr style=\"text-align: right;\">\n",
              "      <th></th>\n",
              "      <th>air_frames signal wavelength [nm]</th>\n",
              "      <th>air_frames signal amplitude [dB]</th>\n",
              "      <th>sensor_no</th>\n",
              "      <th>izo_frames signal wavelength  [nm]</th>\n",
              "      <th>izo_frames signal amplitude [dB]</th>\n",
              "      <th>sensor_no</th>\n",
              "      <th>water_frames signal wavelength [nm]</th>\n",
              "      <th>water_frames signal amplitude [dB]</th>\n",
              "      <th>sensor_no</th>\n",
              "    </tr>\n",
              "  </thead>\n",
              "  <tbody>\n",
              "    <tr>\n",
              "      <th>0</th>\n",
              "      <td>1350.1</td>\n",
              "      <td>9.2003</td>\n",
              "      <td>sensor01</td>\n",
              "      <td>1350.1</td>\n",
              "      <td>8.67500</td>\n",
              "      <td>sensor01</td>\n",
              "      <td>1350.1</td>\n",
              "      <td>8.42870</td>\n",
              "      <td>sensor01</td>\n",
              "    </tr>\n",
              "    <tr>\n",
              "      <th>1</th>\n",
              "      <td>1350.2</td>\n",
              "      <td>9.1968</td>\n",
              "      <td>sensor01</td>\n",
              "      <td>1350.2</td>\n",
              "      <td>8.71160</td>\n",
              "      <td>sensor01</td>\n",
              "      <td>1350.2</td>\n",
              "      <td>8.44220</td>\n",
              "      <td>sensor01</td>\n",
              "    </tr>\n",
              "    <tr>\n",
              "      <th>2</th>\n",
              "      <td>1350.3</td>\n",
              "      <td>9.1028</td>\n",
              "      <td>sensor01</td>\n",
              "      <td>1350.3</td>\n",
              "      <td>8.71570</td>\n",
              "      <td>sensor01</td>\n",
              "      <td>1350.3</td>\n",
              "      <td>8.41440</td>\n",
              "      <td>sensor01</td>\n",
              "    </tr>\n",
              "    <tr>\n",
              "      <th>3</th>\n",
              "      <td>1350.4</td>\n",
              "      <td>9.0601</td>\n",
              "      <td>sensor01</td>\n",
              "      <td>1350.4</td>\n",
              "      <td>8.67920</td>\n",
              "      <td>sensor01</td>\n",
              "      <td>1350.4</td>\n",
              "      <td>8.40340</td>\n",
              "      <td>sensor01</td>\n",
              "    </tr>\n",
              "    <tr>\n",
              "      <th>4</th>\n",
              "      <td>1350.5</td>\n",
              "      <td>9.1118</td>\n",
              "      <td>sensor01</td>\n",
              "      <td>1350.5</td>\n",
              "      <td>8.63120</td>\n",
              "      <td>sensor01</td>\n",
              "      <td>1350.5</td>\n",
              "      <td>8.33510</td>\n",
              "      <td>sensor01</td>\n",
              "    </tr>\n",
              "    <tr>\n",
              "      <th>...</th>\n",
              "      <td>...</td>\n",
              "      <td>...</td>\n",
              "      <td>...</td>\n",
              "      <td>...</td>\n",
              "      <td>...</td>\n",
              "      <td>...</td>\n",
              "      <td>...</td>\n",
              "      <td>...</td>\n",
              "      <td>...</td>\n",
              "    </tr>\n",
              "    <tr>\n",
              "      <th>2995</th>\n",
              "      <td>1649.6</td>\n",
              "      <td>3.2784</td>\n",
              "      <td>sensor10</td>\n",
              "      <td>1649.6</td>\n",
              "      <td>-0.61478</td>\n",
              "      <td>sensor10</td>\n",
              "      <td>1649.6</td>\n",
              "      <td>-0.86565</td>\n",
              "      <td>sensor10</td>\n",
              "    </tr>\n",
              "    <tr>\n",
              "      <th>2996</th>\n",
              "      <td>1649.7</td>\n",
              "      <td>3.4213</td>\n",
              "      <td>sensor10</td>\n",
              "      <td>1649.7</td>\n",
              "      <td>-0.53629</td>\n",
              "      <td>sensor10</td>\n",
              "      <td>1649.7</td>\n",
              "      <td>-0.84435</td>\n",
              "      <td>sensor10</td>\n",
              "    </tr>\n",
              "    <tr>\n",
              "      <th>2997</th>\n",
              "      <td>1649.8</td>\n",
              "      <td>3.3112</td>\n",
              "      <td>sensor10</td>\n",
              "      <td>1649.8</td>\n",
              "      <td>-0.81838</td>\n",
              "      <td>sensor10</td>\n",
              "      <td>1649.8</td>\n",
              "      <td>-0.97383</td>\n",
              "      <td>sensor10</td>\n",
              "    </tr>\n",
              "    <tr>\n",
              "      <th>2998</th>\n",
              "      <td>1649.9</td>\n",
              "      <td>3.4500</td>\n",
              "      <td>sensor10</td>\n",
              "      <td>1649.9</td>\n",
              "      <td>-0.57202</td>\n",
              "      <td>sensor10</td>\n",
              "      <td>1649.9</td>\n",
              "      <td>-0.63849</td>\n",
              "      <td>sensor10</td>\n",
              "    </tr>\n",
              "    <tr>\n",
              "      <th>2999</th>\n",
              "      <td>1650.0</td>\n",
              "      <td>3.6370</td>\n",
              "      <td>sensor10</td>\n",
              "      <td>1650.0</td>\n",
              "      <td>-0.42871</td>\n",
              "      <td>sensor10</td>\n",
              "      <td>1650.0</td>\n",
              "      <td>-0.75215</td>\n",
              "      <td>sensor10</td>\n",
              "    </tr>\n",
              "  </tbody>\n",
              "</table>\n",
              "<p>30000 rows × 9 columns</p>\n",
              "</div>\n",
              "      <button class=\"colab-df-convert\" onclick=\"convertToInteractive('df-37e22803-277f-47fc-926b-21df96cf0554')\"\n",
              "              title=\"Convert this dataframe to an interactive table.\"\n",
              "              style=\"display:none;\">\n",
              "        \n",
              "  <svg xmlns=\"http://www.w3.org/2000/svg\" height=\"24px\"viewBox=\"0 0 24 24\"\n",
              "       width=\"24px\">\n",
              "    <path d=\"M0 0h24v24H0V0z\" fill=\"none\"/>\n",
              "    <path d=\"M18.56 5.44l.94 2.06.94-2.06 2.06-.94-2.06-.94-.94-2.06-.94 2.06-2.06.94zm-11 1L8.5 8.5l.94-2.06 2.06-.94-2.06-.94L8.5 2.5l-.94 2.06-2.06.94zm10 10l.94 2.06.94-2.06 2.06-.94-2.06-.94-.94-2.06-.94 2.06-2.06.94z\"/><path d=\"M17.41 7.96l-1.37-1.37c-.4-.4-.92-.59-1.43-.59-.52 0-1.04.2-1.43.59L10.3 9.45l-7.72 7.72c-.78.78-.78 2.05 0 2.83L4 21.41c.39.39.9.59 1.41.59.51 0 1.02-.2 1.41-.59l7.78-7.78 2.81-2.81c.8-.78.8-2.07 0-2.86zM5.41 20L4 18.59l7.72-7.72 1.47 1.35L5.41 20z\"/>\n",
              "  </svg>\n",
              "      </button>\n",
              "      \n",
              "  <style>\n",
              "    .colab-df-container {\n",
              "      display:flex;\n",
              "      flex-wrap:wrap;\n",
              "      gap: 12px;\n",
              "    }\n",
              "\n",
              "    .colab-df-convert {\n",
              "      background-color: #E8F0FE;\n",
              "      border: none;\n",
              "      border-radius: 50%;\n",
              "      cursor: pointer;\n",
              "      display: none;\n",
              "      fill: #1967D2;\n",
              "      height: 32px;\n",
              "      padding: 0 0 0 0;\n",
              "      width: 32px;\n",
              "    }\n",
              "\n",
              "    .colab-df-convert:hover {\n",
              "      background-color: #E2EBFA;\n",
              "      box-shadow: 0px 1px 2px rgba(60, 64, 67, 0.3), 0px 1px 3px 1px rgba(60, 64, 67, 0.15);\n",
              "      fill: #174EA6;\n",
              "    }\n",
              "\n",
              "    [theme=dark] .colab-df-convert {\n",
              "      background-color: #3B4455;\n",
              "      fill: #D2E3FC;\n",
              "    }\n",
              "\n",
              "    [theme=dark] .colab-df-convert:hover {\n",
              "      background-color: #434B5C;\n",
              "      box-shadow: 0px 1px 3px 1px rgba(0, 0, 0, 0.15);\n",
              "      filter: drop-shadow(0px 1px 2px rgba(0, 0, 0, 0.3));\n",
              "      fill: #FFFFFF;\n",
              "    }\n",
              "  </style>\n",
              "\n",
              "      <script>\n",
              "        const buttonEl =\n",
              "          document.querySelector('#df-37e22803-277f-47fc-926b-21df96cf0554 button.colab-df-convert');\n",
              "        buttonEl.style.display =\n",
              "          google.colab.kernel.accessAllowed ? 'block' : 'none';\n",
              "\n",
              "        async function convertToInteractive(key) {\n",
              "          const element = document.querySelector('#df-37e22803-277f-47fc-926b-21df96cf0554');\n",
              "          const dataTable =\n",
              "            await google.colab.kernel.invokeFunction('convertToInteractive',\n",
              "                                                     [key], {});\n",
              "          if (!dataTable) return;\n",
              "\n",
              "          const docLinkHtml = 'Like what you see? Visit the ' +\n",
              "            '<a target=\"_blank\" href=https://colab.research.google.com/notebooks/data_table.ipynb>data table notebook</a>'\n",
              "            + ' to learn more about interactive tables.';\n",
              "          element.innerHTML = '';\n",
              "          dataTable['output_type'] = 'display_data';\n",
              "          await google.colab.output.renderOutput(dataTable, element);\n",
              "          const docLink = document.createElement('div');\n",
              "          docLink.innerHTML = docLinkHtml;\n",
              "          element.appendChild(docLink);\n",
              "        }\n",
              "      </script>\n",
              "    </div>\n",
              "  </div>\n",
              "  "
            ]
          },
          "metadata": {},
          "execution_count": 21
        }
      ]
    },
    {
      "cell_type": "code",
      "source": [
        "all_datas_gather.describe()"
      ],
      "metadata": {
        "colab": {
          "base_uri": "https://localhost:8080/",
          "height": 396
        },
        "id": "zYbURXvTUEq-",
        "outputId": "6375fcbd-b9ce-4e53-fcab-7560313c44a2"
      },
      "execution_count": 22,
      "outputs": [
        {
          "output_type": "execute_result",
          "data": {
            "text/plain": [
              "       air_frames signal wavelength [nm]  air_frames signal amplitude [dB]  \\\n",
              "count                       30000.000000                      30000.000000   \n",
              "mean                         1500.050000                          0.797061   \n",
              "std                            86.603979                          4.902206   \n",
              "min                          1350.100000                         -8.798200   \n",
              "25%                          1425.075000                         -3.205775   \n",
              "50%                          1500.050000                          1.007150   \n",
              "75%                          1575.025000                          4.790600   \n",
              "max                          1650.000000                         10.003000   \n",
              "\n",
              "       izo_frames signal wavelength  [nm]  izo_frames signal amplitude [dB]  \\\n",
              "count                        30000.000000                      30000.000000   \n",
              "mean                          1500.050000                         -1.768971   \n",
              "std                             86.603979                          6.971646   \n",
              "min                           1350.100000                        -16.165000   \n",
              "25%                           1425.075000                         -6.879025   \n",
              "50%                           1500.050000                         -1.630550   \n",
              "75%                           1575.025000                          4.579525   \n",
              "max                           1650.000000                          9.551500   \n",
              "\n",
              "       water_frames signal wavelength [nm]  water_frames signal amplitude [dB]  \n",
              "count                         30000.000000                        30000.000000  \n",
              "mean                           1500.050000                           -1.721062  \n",
              "std                              86.603979                            6.559040  \n",
              "min                            1350.100000                          -14.673000  \n",
              "25%                            1425.075000                           -6.827025  \n",
              "50%                            1500.050000                           -1.860650  \n",
              "75%                            1575.025000                            4.324325  \n",
              "max                            1650.000000                            9.284900  "
            ],
            "text/html": [
              "\n",
              "  <div id=\"df-e4ca6146-d126-4f0a-be28-af33d1485b09\">\n",
              "    <div class=\"colab-df-container\">\n",
              "      <div>\n",
              "<style scoped>\n",
              "    .dataframe tbody tr th:only-of-type {\n",
              "        vertical-align: middle;\n",
              "    }\n",
              "\n",
              "    .dataframe tbody tr th {\n",
              "        vertical-align: top;\n",
              "    }\n",
              "\n",
              "    .dataframe thead th {\n",
              "        text-align: right;\n",
              "    }\n",
              "</style>\n",
              "<table border=\"1\" class=\"dataframe\">\n",
              "  <thead>\n",
              "    <tr style=\"text-align: right;\">\n",
              "      <th></th>\n",
              "      <th>air_frames signal wavelength [nm]</th>\n",
              "      <th>air_frames signal amplitude [dB]</th>\n",
              "      <th>izo_frames signal wavelength  [nm]</th>\n",
              "      <th>izo_frames signal amplitude [dB]</th>\n",
              "      <th>water_frames signal wavelength [nm]</th>\n",
              "      <th>water_frames signal amplitude [dB]</th>\n",
              "    </tr>\n",
              "  </thead>\n",
              "  <tbody>\n",
              "    <tr>\n",
              "      <th>count</th>\n",
              "      <td>30000.000000</td>\n",
              "      <td>30000.000000</td>\n",
              "      <td>30000.000000</td>\n",
              "      <td>30000.000000</td>\n",
              "      <td>30000.000000</td>\n",
              "      <td>30000.000000</td>\n",
              "    </tr>\n",
              "    <tr>\n",
              "      <th>mean</th>\n",
              "      <td>1500.050000</td>\n",
              "      <td>0.797061</td>\n",
              "      <td>1500.050000</td>\n",
              "      <td>-1.768971</td>\n",
              "      <td>1500.050000</td>\n",
              "      <td>-1.721062</td>\n",
              "    </tr>\n",
              "    <tr>\n",
              "      <th>std</th>\n",
              "      <td>86.603979</td>\n",
              "      <td>4.902206</td>\n",
              "      <td>86.603979</td>\n",
              "      <td>6.971646</td>\n",
              "      <td>86.603979</td>\n",
              "      <td>6.559040</td>\n",
              "    </tr>\n",
              "    <tr>\n",
              "      <th>min</th>\n",
              "      <td>1350.100000</td>\n",
              "      <td>-8.798200</td>\n",
              "      <td>1350.100000</td>\n",
              "      <td>-16.165000</td>\n",
              "      <td>1350.100000</td>\n",
              "      <td>-14.673000</td>\n",
              "    </tr>\n",
              "    <tr>\n",
              "      <th>25%</th>\n",
              "      <td>1425.075000</td>\n",
              "      <td>-3.205775</td>\n",
              "      <td>1425.075000</td>\n",
              "      <td>-6.879025</td>\n",
              "      <td>1425.075000</td>\n",
              "      <td>-6.827025</td>\n",
              "    </tr>\n",
              "    <tr>\n",
              "      <th>50%</th>\n",
              "      <td>1500.050000</td>\n",
              "      <td>1.007150</td>\n",
              "      <td>1500.050000</td>\n",
              "      <td>-1.630550</td>\n",
              "      <td>1500.050000</td>\n",
              "      <td>-1.860650</td>\n",
              "    </tr>\n",
              "    <tr>\n",
              "      <th>75%</th>\n",
              "      <td>1575.025000</td>\n",
              "      <td>4.790600</td>\n",
              "      <td>1575.025000</td>\n",
              "      <td>4.579525</td>\n",
              "      <td>1575.025000</td>\n",
              "      <td>4.324325</td>\n",
              "    </tr>\n",
              "    <tr>\n",
              "      <th>max</th>\n",
              "      <td>1650.000000</td>\n",
              "      <td>10.003000</td>\n",
              "      <td>1650.000000</td>\n",
              "      <td>9.551500</td>\n",
              "      <td>1650.000000</td>\n",
              "      <td>9.284900</td>\n",
              "    </tr>\n",
              "  </tbody>\n",
              "</table>\n",
              "</div>\n",
              "      <button class=\"colab-df-convert\" onclick=\"convertToInteractive('df-e4ca6146-d126-4f0a-be28-af33d1485b09')\"\n",
              "              title=\"Convert this dataframe to an interactive table.\"\n",
              "              style=\"display:none;\">\n",
              "        \n",
              "  <svg xmlns=\"http://www.w3.org/2000/svg\" height=\"24px\"viewBox=\"0 0 24 24\"\n",
              "       width=\"24px\">\n",
              "    <path d=\"M0 0h24v24H0V0z\" fill=\"none\"/>\n",
              "    <path d=\"M18.56 5.44l.94 2.06.94-2.06 2.06-.94-2.06-.94-.94-2.06-.94 2.06-2.06.94zm-11 1L8.5 8.5l.94-2.06 2.06-.94-2.06-.94L8.5 2.5l-.94 2.06-2.06.94zm10 10l.94 2.06.94-2.06 2.06-.94-2.06-.94-.94-2.06-.94 2.06-2.06.94z\"/><path d=\"M17.41 7.96l-1.37-1.37c-.4-.4-.92-.59-1.43-.59-.52 0-1.04.2-1.43.59L10.3 9.45l-7.72 7.72c-.78.78-.78 2.05 0 2.83L4 21.41c.39.39.9.59 1.41.59.51 0 1.02-.2 1.41-.59l7.78-7.78 2.81-2.81c.8-.78.8-2.07 0-2.86zM5.41 20L4 18.59l7.72-7.72 1.47 1.35L5.41 20z\"/>\n",
              "  </svg>\n",
              "      </button>\n",
              "      \n",
              "  <style>\n",
              "    .colab-df-container {\n",
              "      display:flex;\n",
              "      flex-wrap:wrap;\n",
              "      gap: 12px;\n",
              "    }\n",
              "\n",
              "    .colab-df-convert {\n",
              "      background-color: #E8F0FE;\n",
              "      border: none;\n",
              "      border-radius: 50%;\n",
              "      cursor: pointer;\n",
              "      display: none;\n",
              "      fill: #1967D2;\n",
              "      height: 32px;\n",
              "      padding: 0 0 0 0;\n",
              "      width: 32px;\n",
              "    }\n",
              "\n",
              "    .colab-df-convert:hover {\n",
              "      background-color: #E2EBFA;\n",
              "      box-shadow: 0px 1px 2px rgba(60, 64, 67, 0.3), 0px 1px 3px 1px rgba(60, 64, 67, 0.15);\n",
              "      fill: #174EA6;\n",
              "    }\n",
              "\n",
              "    [theme=dark] .colab-df-convert {\n",
              "      background-color: #3B4455;\n",
              "      fill: #D2E3FC;\n",
              "    }\n",
              "\n",
              "    [theme=dark] .colab-df-convert:hover {\n",
              "      background-color: #434B5C;\n",
              "      box-shadow: 0px 1px 3px 1px rgba(0, 0, 0, 0.15);\n",
              "      filter: drop-shadow(0px 1px 2px rgba(0, 0, 0, 0.3));\n",
              "      fill: #FFFFFF;\n",
              "    }\n",
              "  </style>\n",
              "\n",
              "      <script>\n",
              "        const buttonEl =\n",
              "          document.querySelector('#df-e4ca6146-d126-4f0a-be28-af33d1485b09 button.colab-df-convert');\n",
              "        buttonEl.style.display =\n",
              "          google.colab.kernel.accessAllowed ? 'block' : 'none';\n",
              "\n",
              "        async function convertToInteractive(key) {\n",
              "          const element = document.querySelector('#df-e4ca6146-d126-4f0a-be28-af33d1485b09');\n",
              "          const dataTable =\n",
              "            await google.colab.kernel.invokeFunction('convertToInteractive',\n",
              "                                                     [key], {});\n",
              "          if (!dataTable) return;\n",
              "\n",
              "          const docLinkHtml = 'Like what you see? Visit the ' +\n",
              "            '<a target=\"_blank\" href=https://colab.research.google.com/notebooks/data_table.ipynb>data table notebook</a>'\n",
              "            + ' to learn more about interactive tables.';\n",
              "          element.innerHTML = '';\n",
              "          dataTable['output_type'] = 'display_data';\n",
              "          await google.colab.output.renderOutput(dataTable, element);\n",
              "          const docLink = document.createElement('div');\n",
              "          docLink.innerHTML = docLinkHtml;\n",
              "          element.appendChild(docLink);\n",
              "        }\n",
              "      </script>\n",
              "    </div>\n",
              "  </div>\n",
              "  "
            ]
          },
          "metadata": {},
          "execution_count": 22
        }
      ]
    },
    {
      "cell_type": "code",
      "source": [
        "all_datas_gather.dtypes"
      ],
      "metadata": {
        "colab": {
          "base_uri": "https://localhost:8080/"
        },
        "id": "nnpOi63eUluf",
        "outputId": "9b243b8a-2985-4b2f-8a58-7b96e3f3f456"
      },
      "execution_count": 23,
      "outputs": [
        {
          "output_type": "execute_result",
          "data": {
            "text/plain": [
              "air_frames signal wavelength [nm]      float64\n",
              "air_frames signal amplitude [dB]       float64\n",
              "sensor_no                               object\n",
              "izo_frames signal wavelength  [nm]     float64\n",
              "izo_frames signal amplitude [dB]       float64\n",
              "sensor_no                               object\n",
              "water_frames signal wavelength [nm]    float64\n",
              "water_frames signal amplitude [dB]     float64\n",
              "sensor_no                               object\n",
              "dtype: object"
            ]
          },
          "metadata": {},
          "execution_count": 23
        }
      ]
    },
    {
      "cell_type": "markdown",
      "source": [
        "# Separate columns with values and preparation to ML modeling"
      ],
      "metadata": {
        "id": "9Lqx3lqPp5ga"
      }
    },
    {
      "cell_type": "code",
      "source": [
        "dB_columns=[]\n",
        "for column in all_datas_gather.columns:\n",
        "  if '[dB]' in column:\n",
        "    dB_columns.append(column)"
      ],
      "metadata": {
        "id": "-ZvQP4Dcjgt4"
      },
      "execution_count": 24,
      "outputs": []
    },
    {
      "cell_type": "code",
      "source": [
        "all_datas_gather[dB_columns]"
      ],
      "metadata": {
        "colab": {
          "base_uri": "https://localhost:8080/",
          "height": 485
        },
        "id": "tGWWyhjukL4c",
        "outputId": "7b2eabb5-9805-47a9-d241-2a5b4cc8eae8"
      },
      "execution_count": 25,
      "outputs": [
        {
          "output_type": "execute_result",
          "data": {
            "text/plain": [
              "      air_frames signal amplitude [dB]  izo_frames signal amplitude [dB]  \\\n",
              "0                               9.2003                           8.67500   \n",
              "1                               9.1968                           8.71160   \n",
              "2                               9.1028                           8.71570   \n",
              "3                               9.0601                           8.67920   \n",
              "4                               9.1118                           8.63120   \n",
              "...                                ...                               ...   \n",
              "2995                            3.2784                          -0.61478   \n",
              "2996                            3.4213                          -0.53629   \n",
              "2997                            3.3112                          -0.81838   \n",
              "2998                            3.4500                          -0.57202   \n",
              "2999                            3.6370                          -0.42871   \n",
              "\n",
              "      water_frames signal amplitude [dB]  \n",
              "0                                8.42870  \n",
              "1                                8.44220  \n",
              "2                                8.41440  \n",
              "3                                8.40340  \n",
              "4                                8.33510  \n",
              "...                                  ...  \n",
              "2995                            -0.86565  \n",
              "2996                            -0.84435  \n",
              "2997                            -0.97383  \n",
              "2998                            -0.63849  \n",
              "2999                            -0.75215  \n",
              "\n",
              "[30000 rows x 3 columns]"
            ],
            "text/html": [
              "\n",
              "  <div id=\"df-d7a4d6df-2ee8-454d-b3dc-5505f441bad5\">\n",
              "    <div class=\"colab-df-container\">\n",
              "      <div>\n",
              "<style scoped>\n",
              "    .dataframe tbody tr th:only-of-type {\n",
              "        vertical-align: middle;\n",
              "    }\n",
              "\n",
              "    .dataframe tbody tr th {\n",
              "        vertical-align: top;\n",
              "    }\n",
              "\n",
              "    .dataframe thead th {\n",
              "        text-align: right;\n",
              "    }\n",
              "</style>\n",
              "<table border=\"1\" class=\"dataframe\">\n",
              "  <thead>\n",
              "    <tr style=\"text-align: right;\">\n",
              "      <th></th>\n",
              "      <th>air_frames signal amplitude [dB]</th>\n",
              "      <th>izo_frames signal amplitude [dB]</th>\n",
              "      <th>water_frames signal amplitude [dB]</th>\n",
              "    </tr>\n",
              "  </thead>\n",
              "  <tbody>\n",
              "    <tr>\n",
              "      <th>0</th>\n",
              "      <td>9.2003</td>\n",
              "      <td>8.67500</td>\n",
              "      <td>8.42870</td>\n",
              "    </tr>\n",
              "    <tr>\n",
              "      <th>1</th>\n",
              "      <td>9.1968</td>\n",
              "      <td>8.71160</td>\n",
              "      <td>8.44220</td>\n",
              "    </tr>\n",
              "    <tr>\n",
              "      <th>2</th>\n",
              "      <td>9.1028</td>\n",
              "      <td>8.71570</td>\n",
              "      <td>8.41440</td>\n",
              "    </tr>\n",
              "    <tr>\n",
              "      <th>3</th>\n",
              "      <td>9.0601</td>\n",
              "      <td>8.67920</td>\n",
              "      <td>8.40340</td>\n",
              "    </tr>\n",
              "    <tr>\n",
              "      <th>4</th>\n",
              "      <td>9.1118</td>\n",
              "      <td>8.63120</td>\n",
              "      <td>8.33510</td>\n",
              "    </tr>\n",
              "    <tr>\n",
              "      <th>...</th>\n",
              "      <td>...</td>\n",
              "      <td>...</td>\n",
              "      <td>...</td>\n",
              "    </tr>\n",
              "    <tr>\n",
              "      <th>2995</th>\n",
              "      <td>3.2784</td>\n",
              "      <td>-0.61478</td>\n",
              "      <td>-0.86565</td>\n",
              "    </tr>\n",
              "    <tr>\n",
              "      <th>2996</th>\n",
              "      <td>3.4213</td>\n",
              "      <td>-0.53629</td>\n",
              "      <td>-0.84435</td>\n",
              "    </tr>\n",
              "    <tr>\n",
              "      <th>2997</th>\n",
              "      <td>3.3112</td>\n",
              "      <td>-0.81838</td>\n",
              "      <td>-0.97383</td>\n",
              "    </tr>\n",
              "    <tr>\n",
              "      <th>2998</th>\n",
              "      <td>3.4500</td>\n",
              "      <td>-0.57202</td>\n",
              "      <td>-0.63849</td>\n",
              "    </tr>\n",
              "    <tr>\n",
              "      <th>2999</th>\n",
              "      <td>3.6370</td>\n",
              "      <td>-0.42871</td>\n",
              "      <td>-0.75215</td>\n",
              "    </tr>\n",
              "  </tbody>\n",
              "</table>\n",
              "<p>30000 rows × 3 columns</p>\n",
              "</div>\n",
              "      <button class=\"colab-df-convert\" onclick=\"convertToInteractive('df-d7a4d6df-2ee8-454d-b3dc-5505f441bad5')\"\n",
              "              title=\"Convert this dataframe to an interactive table.\"\n",
              "              style=\"display:none;\">\n",
              "        \n",
              "  <svg xmlns=\"http://www.w3.org/2000/svg\" height=\"24px\"viewBox=\"0 0 24 24\"\n",
              "       width=\"24px\">\n",
              "    <path d=\"M0 0h24v24H0V0z\" fill=\"none\"/>\n",
              "    <path d=\"M18.56 5.44l.94 2.06.94-2.06 2.06-.94-2.06-.94-.94-2.06-.94 2.06-2.06.94zm-11 1L8.5 8.5l.94-2.06 2.06-.94-2.06-.94L8.5 2.5l-.94 2.06-2.06.94zm10 10l.94 2.06.94-2.06 2.06-.94-2.06-.94-.94-2.06-.94 2.06-2.06.94z\"/><path d=\"M17.41 7.96l-1.37-1.37c-.4-.4-.92-.59-1.43-.59-.52 0-1.04.2-1.43.59L10.3 9.45l-7.72 7.72c-.78.78-.78 2.05 0 2.83L4 21.41c.39.39.9.59 1.41.59.51 0 1.02-.2 1.41-.59l7.78-7.78 2.81-2.81c.8-.78.8-2.07 0-2.86zM5.41 20L4 18.59l7.72-7.72 1.47 1.35L5.41 20z\"/>\n",
              "  </svg>\n",
              "      </button>\n",
              "      \n",
              "  <style>\n",
              "    .colab-df-container {\n",
              "      display:flex;\n",
              "      flex-wrap:wrap;\n",
              "      gap: 12px;\n",
              "    }\n",
              "\n",
              "    .colab-df-convert {\n",
              "      background-color: #E8F0FE;\n",
              "      border: none;\n",
              "      border-radius: 50%;\n",
              "      cursor: pointer;\n",
              "      display: none;\n",
              "      fill: #1967D2;\n",
              "      height: 32px;\n",
              "      padding: 0 0 0 0;\n",
              "      width: 32px;\n",
              "    }\n",
              "\n",
              "    .colab-df-convert:hover {\n",
              "      background-color: #E2EBFA;\n",
              "      box-shadow: 0px 1px 2px rgba(60, 64, 67, 0.3), 0px 1px 3px 1px rgba(60, 64, 67, 0.15);\n",
              "      fill: #174EA6;\n",
              "    }\n",
              "\n",
              "    [theme=dark] .colab-df-convert {\n",
              "      background-color: #3B4455;\n",
              "      fill: #D2E3FC;\n",
              "    }\n",
              "\n",
              "    [theme=dark] .colab-df-convert:hover {\n",
              "      background-color: #434B5C;\n",
              "      box-shadow: 0px 1px 3px 1px rgba(0, 0, 0, 0.15);\n",
              "      filter: drop-shadow(0px 1px 2px rgba(0, 0, 0, 0.3));\n",
              "      fill: #FFFFFF;\n",
              "    }\n",
              "  </style>\n",
              "\n",
              "      <script>\n",
              "        const buttonEl =\n",
              "          document.querySelector('#df-d7a4d6df-2ee8-454d-b3dc-5505f441bad5 button.colab-df-convert');\n",
              "        buttonEl.style.display =\n",
              "          google.colab.kernel.accessAllowed ? 'block' : 'none';\n",
              "\n",
              "        async function convertToInteractive(key) {\n",
              "          const element = document.querySelector('#df-d7a4d6df-2ee8-454d-b3dc-5505f441bad5');\n",
              "          const dataTable =\n",
              "            await google.colab.kernel.invokeFunction('convertToInteractive',\n",
              "                                                     [key], {});\n",
              "          if (!dataTable) return;\n",
              "\n",
              "          const docLinkHtml = 'Like what you see? Visit the ' +\n",
              "            '<a target=\"_blank\" href=https://colab.research.google.com/notebooks/data_table.ipynb>data table notebook</a>'\n",
              "            + ' to learn more about interactive tables.';\n",
              "          element.innerHTML = '';\n",
              "          dataTable['output_type'] = 'display_data';\n",
              "          await google.colab.output.renderOutput(dataTable, element);\n",
              "          const docLink = document.createElement('div');\n",
              "          docLink.innerHTML = docLinkHtml;\n",
              "          element.appendChild(docLink);\n",
              "        }\n",
              "      </script>\n",
              "    </div>\n",
              "  </div>\n",
              "  "
            ]
          },
          "metadata": {},
          "execution_count": 25
        }
      ]
    },
    {
      "cell_type": "markdown",
      "source": [
        "# Corelation test"
      ],
      "metadata": {
        "id": "aoHQvwBqqG1S"
      }
    },
    {
      "cell_type": "code",
      "source": [
        "sns.heatmap(all_datas_gather[dB_columns].corr(), annot=True)"
      ],
      "metadata": {
        "colab": {
          "base_uri": "https://localhost:8080/",
          "height": 455
        },
        "id": "WjnwWzcPiezk",
        "outputId": "8ac1007f-3ed0-4e2c-d9f6-c0add81becbd"
      },
      "execution_count": 26,
      "outputs": [
        {
          "output_type": "execute_result",
          "data": {
            "text/plain": [
              "<matplotlib.axes._subplots.AxesSubplot at 0x7f21ee277760>"
            ]
          },
          "metadata": {},
          "execution_count": 26
        },
        {
          "output_type": "display_data",
          "data": {
            "text/plain": [
              "<Figure size 432x288 with 2 Axes>"
            ],
            "image/png": "[encoded data removed]"
          },
          "metadata": {
            "needs_background": "light"
          }
        }
      ]
    },
    {
      "cell_type": "code",
      "source": [
        "all_datas_gather_value_col=all_datas_gather.select_dtypes(include='number')\n",
        "all_datas_gather_value_col"
      ],
      "metadata": {
        "colab": {
          "base_uri": "https://localhost:8080/",
          "height": 520
        },
        "id": "E2MnFrlsFugG",
        "outputId": "a71a7db5-c728-4b30-91d9-432127070beb"
      },
      "execution_count": 27,
      "outputs": [
        {
          "output_type": "execute_result",
          "data": {
            "text/plain": [
              "      air_frames signal wavelength [nm]  air_frames signal amplitude [dB]  \\\n",
              "0                                1350.1                            9.2003   \n",
              "1                                1350.2                            9.1968   \n",
              "2                                1350.3                            9.1028   \n",
              "3                                1350.4                            9.0601   \n",
              "4                                1350.5                            9.1118   \n",
              "...                                 ...                               ...   \n",
              "2995                             1649.6                            3.2784   \n",
              "2996                             1649.7                            3.4213   \n",
              "2997                             1649.8                            3.3112   \n",
              "2998                             1649.9                            3.4500   \n",
              "2999                             1650.0                            3.6370   \n",
              "\n",
              "      izo_frames signal wavelength  [nm]  izo_frames signal amplitude [dB]  \\\n",
              "0                                 1350.1                           8.67500   \n",
              "1                                 1350.2                           8.71160   \n",
              "2                                 1350.3                           8.71570   \n",
              "3                                 1350.4                           8.67920   \n",
              "4                                 1350.5                           8.63120   \n",
              "...                                  ...                               ...   \n",
              "2995                              1649.6                          -0.61478   \n",
              "2996                              1649.7                          -0.53629   \n",
              "2997                              1649.8                          -0.81838   \n",
              "2998                              1649.9                          -0.57202   \n",
              "2999                              1650.0                          -0.42871   \n",
              "\n",
              "      water_frames signal wavelength [nm]  water_frames signal amplitude [dB]  \n",
              "0                                  1350.1                             8.42870  \n",
              "1                                  1350.2                             8.44220  \n",
              "2                                  1350.3                             8.41440  \n",
              "3                                  1350.4                             8.40340  \n",
              "4                                  1350.5                             8.33510  \n",
              "...                                   ...                                 ...  \n",
              "2995                               1649.6                            -0.86565  \n",
              "2996                               1649.7                            -0.84435  \n",
              "2997                               1649.8                            -0.97383  \n",
              "2998                               1649.9                            -0.63849  \n",
              "2999                               1650.0                            -0.75215  \n",
              "\n",
              "[30000 rows x 6 columns]"
            ],
            "text/html": [
              "\n",
              "  <div id=\"df-2b3d879c-49c3-404d-a31b-86721485ce50\">\n",
              "    <div class=\"colab-df-container\">\n",
              "      <div>\n",
              "<style scoped>\n",
              "    .dataframe tbody tr th:only-of-type {\n",
              "        vertical-align: middle;\n",
              "    }\n",
              "\n",
              "    .dataframe tbody tr th {\n",
              "        vertical-align: top;\n",
              "    }\n",
              "\n",
              "    .dataframe thead th {\n",
              "        text-align: right;\n",
              "    }\n",
              "</style>\n",
              "<table border=\"1\" class=\"dataframe\">\n",
              "  <thead>\n",
              "    <tr style=\"text-align: right;\">\n",
              "      <th></th>\n",
              "      <th>air_frames signal wavelength [nm]</th>\n",
              "      <th>air_frames signal amplitude [dB]</th>\n",
              "      <th>izo_frames signal wavelength  [nm]</th>\n",
              "      <th>izo_frames signal amplitude [dB]</th>\n",
              "      <th>water_frames signal wavelength [nm]</th>\n",
              "      <th>water_frames signal amplitude [dB]</th>\n",
              "    </tr>\n",
              "  </thead>\n",
              "  <tbody>\n",
              "    <tr>\n",
              "      <th>0</th>\n",
              "      <td>1350.1</td>\n",
              "      <td>9.2003</td>\n",
              "      <td>1350.1</td>\n",
              "      <td>8.67500</td>\n",
              "      <td>1350.1</td>\n",
              "      <td>8.42870</td>\n",
              "    </tr>\n",
              "    <tr>\n",
              "      <th>1</th>\n",
              "      <td>1350.2</td>\n",
              "      <td>9.1968</td>\n",
              "      <td>1350.2</td>\n",
              "      <td>8.71160</td>\n",
              "      <td>1350.2</td>\n",
              "      <td>8.44220</td>\n",
              "    </tr>\n",
              "    <tr>\n",
              "      <th>2</th>\n",
              "      <td>1350.3</td>\n",
              "      <td>9.1028</td>\n",
              "      <td>1350.3</td>\n",
              "      <td>8.71570</td>\n",
              "      <td>1350.3</td>\n",
              "      <td>8.41440</td>\n",
              "    </tr>\n",
              "    <tr>\n",
              "      <th>3</th>\n",
              "      <td>1350.4</td>\n",
              "      <td>9.0601</td>\n",
              "      <td>1350.4</td>\n",
              "      <td>8.67920</td>\n",
              "      <td>1350.4</td>\n",
              "      <td>8.40340</td>\n",
              "    </tr>\n",
              "    <tr>\n",
              "      <th>4</th>\n",
              "      <td>1350.5</td>\n",
              "      <td>9.1118</td>\n",
              "      <td>1350.5</td>\n",
              "      <td>8.63120</td>\n",
              "      <td>1350.5</td>\n",
              "      <td>8.33510</td>\n",
              "    </tr>\n",
              "    <tr>\n",
              "      <th>...</th>\n",
              "      <td>...</td>\n",
              "      <td>...</td>\n",
              "      <td>...</td>\n",
              "      <td>...</td>\n",
              "      <td>...</td>\n",
              "      <td>...</td>\n",
              "    </tr>\n",
              "    <tr>\n",
              "      <th>2995</th>\n",
              "      <td>1649.6</td>\n",
              "      <td>3.2784</td>\n",
              "      <td>1649.6</td>\n",
              "      <td>-0.61478</td>\n",
              "      <td>1649.6</td>\n",
              "      <td>-0.86565</td>\n",
              "    </tr>\n",
              "    <tr>\n",
              "      <th>2996</th>\n",
              "      <td>1649.7</td>\n",
              "      <td>3.4213</td>\n",
              "      <td>1649.7</td>\n",
              "      <td>-0.53629</td>\n",
              "      <td>1649.7</td>\n",
              "      <td>-0.84435</td>\n",
              "    </tr>\n",
              "    <tr>\n",
              "      <th>2997</th>\n",
              "      <td>1649.8</td>\n",
              "      <td>3.3112</td>\n",
              "      <td>1649.8</td>\n",
              "      <td>-0.81838</td>\n",
              "      <td>1649.8</td>\n",
              "      <td>-0.97383</td>\n",
              "    </tr>\n",
              "    <tr>\n",
              "      <th>2998</th>\n",
              "      <td>1649.9</td>\n",
              "      <td>3.4500</td>\n",
              "      <td>1649.9</td>\n",
              "      <td>-0.57202</td>\n",
              "      <td>1649.9</td>\n",
              "      <td>-0.63849</td>\n",
              "    </tr>\n",
              "    <tr>\n",
              "      <th>2999</th>\n",
              "      <td>1650.0</td>\n",
              "      <td>3.6370</td>\n",
              "      <td>1650.0</td>\n",
              "      <td>-0.42871</td>\n",
              "      <td>1650.0</td>\n",
              "      <td>-0.75215</td>\n",
              "    </tr>\n",
              "  </tbody>\n",
              "</table>\n",
              "<p>30000 rows × 6 columns</p>\n",
              "</div>\n",
              "      <button class=\"colab-df-convert\" onclick=\"convertToInteractive('df-2b3d879c-49c3-404d-a31b-86721485ce50')\"\n",
              "              title=\"Convert this dataframe to an interactive table.\"\n",
              "              style=\"display:none;\">\n",
              "        \n",
              "  <svg xmlns=\"http://www.w3.org/2000/svg\" height=\"24px\"viewBox=\"0 0 24 24\"\n",
              "       width=\"24px\">\n",
              "    <path d=\"M0 0h24v24H0V0z\" fill=\"none\"/>\n",
              "    <path d=\"M18.56 5.44l.94 2.06.94-2.06 2.06-.94-2.06-.94-.94-2.06-.94 2.06-2.06.94zm-11 1L8.5 8.5l.94-2.06 2.06-.94-2.06-.94L8.5 2.5l-.94 2.06-2.06.94zm10 10l.94 2.06.94-2.06 2.06-.94-2.06-.94-.94-2.06-.94 2.06-2.06.94z\"/><path d=\"M17.41 7.96l-1.37-1.37c-.4-.4-.92-.59-1.43-.59-.52 0-1.04.2-1.43.59L10.3 9.45l-7.72 7.72c-.78.78-.78 2.05 0 2.83L4 21.41c.39.39.9.59 1.41.59.51 0 1.02-.2 1.41-.59l7.78-7.78 2.81-2.81c.8-.78.8-2.07 0-2.86zM5.41 20L4 18.59l7.72-7.72 1.47 1.35L5.41 20z\"/>\n",
              "  </svg>\n",
              "      </button>\n",
              "      \n",
              "  <style>\n",
              "    .colab-df-container {\n",
              "      display:flex;\n",
              "      flex-wrap:wrap;\n",
              "      gap: 12px;\n",
              "    }\n",
              "\n",
              "    .colab-df-convert {\n",
              "      background-color: #E8F0FE;\n",
              "      border: none;\n",
              "      border-radius: 50%;\n",
              "      cursor: pointer;\n",
              "      display: none;\n",
              "      fill: #1967D2;\n",
              "      height: 32px;\n",
              "      padding: 0 0 0 0;\n",
              "      width: 32px;\n",
              "    }\n",
              "\n",
              "    .colab-df-convert:hover {\n",
              "      background-color: #E2EBFA;\n",
              "      box-shadow: 0px 1px 2px rgba(60, 64, 67, 0.3), 0px 1px 3px 1px rgba(60, 64, 67, 0.15);\n",
              "      fill: #174EA6;\n",
              "    }\n",
              "\n",
              "    [theme=dark] .colab-df-convert {\n",
              "      background-color: #3B4455;\n",
              "      fill: #D2E3FC;\n",
              "    }\n",
              "\n",
              "    [theme=dark] .colab-df-convert:hover {\n",
              "      background-color: #434B5C;\n",
              "      box-shadow: 0px 1px 3px 1px rgba(0, 0, 0, 0.15);\n",
              "      filter: drop-shadow(0px 1px 2px rgba(0, 0, 0, 0.3));\n",
              "      fill: #FFFFFF;\n",
              "    }\n",
              "  </style>\n",
              "\n",
              "      <script>\n",
              "        const buttonEl =\n",
              "          document.querySelector('#df-2b3d879c-49c3-404d-a31b-86721485ce50 button.colab-df-convert');\n",
              "        buttonEl.style.display =\n",
              "          google.colab.kernel.accessAllowed ? 'block' : 'none';\n",
              "\n",
              "        async function convertToInteractive(key) {\n",
              "          const element = document.querySelector('#df-2b3d879c-49c3-404d-a31b-86721485ce50');\n",
              "          const dataTable =\n",
              "            await google.colab.kernel.invokeFunction('convertToInteractive',\n",
              "                                                     [key], {});\n",
              "          if (!dataTable) return;\n",
              "\n",
              "          const docLinkHtml = 'Like what you see? Visit the ' +\n",
              "            '<a target=\"_blank\" href=https://colab.research.google.com/notebooks/data_table.ipynb>data table notebook</a>'\n",
              "            + ' to learn more about interactive tables.';\n",
              "          element.innerHTML = '';\n",
              "          dataTable['output_type'] = 'display_data';\n",
              "          await google.colab.output.renderOutput(dataTable, element);\n",
              "          const docLink = document.createElement('div');\n",
              "          docLink.innerHTML = docLinkHtml;\n",
              "          element.appendChild(docLink);\n",
              "        }\n",
              "      </script>\n",
              "    </div>\n",
              "  </div>\n",
              "  "
            ]
          },
          "metadata": {},
          "execution_count": 27
        }
      ]
    },
    {
      "cell_type": "code",
      "source": [
        "dB_columns_plus_signal= all_datas_gather[dB_columns]\n",
        "dB_columns_plus_signal['signal wavelength [nm]'] = all_datas_gather['air_frames signal wavelength [nm]']\n",
        "dB_columns_plus_signal"
      ],
      "metadata": {
        "colab": {
          "base_uri": "https://localhost:8080/",
          "height": 609
        },
        "id": "erA0_vh3TmgI",
        "outputId": "e92a8537-6c5b-4505-b2ac-d77a2ae66781"
      },
      "execution_count": 28,
      "outputs": [
        {
          "output_type": "stream",
          "name": "stderr",
          "text": [
            "<ipython-input-28-9cd836377cdf>:2: SettingWithCopyWarning: \n",
            "A value is trying to be set on a copy of a slice from a DataFrame.\n",
            "Try using .loc[row_indexer,col_indexer] = value instead\n",
            "\n",
            "See the caveats in the documentation: https://pandas.pydata.org/pandas-docs/stable/user_guide/indexing.html#returning-a-view-versus-a-copy\n",
            "  dB_columns_plus_signal['signal wavelength [nm]'] = all_datas_gather['air_frames signal wavelength [nm]']\n"
          ]
        },
        {
          "output_type": "execute_result",
          "data": {
            "text/plain": [
              "      air_frames signal amplitude [dB]  izo_frames signal amplitude [dB]  \\\n",
              "0                               9.2003                           8.67500   \n",
              "1                               9.1968                           8.71160   \n",
              "2                               9.1028                           8.71570   \n",
              "3                               9.0601                           8.67920   \n",
              "4                               9.1118                           8.63120   \n",
              "...                                ...                               ...   \n",
              "2995                            3.2784                          -0.61478   \n",
              "2996                            3.4213                          -0.53629   \n",
              "2997                            3.3112                          -0.81838   \n",
              "2998                            3.4500                          -0.57202   \n",
              "2999                            3.6370                          -0.42871   \n",
              "\n",
              "      water_frames signal amplitude [dB]  signal wavelength [nm]  \n",
              "0                                8.42870                  1350.1  \n",
              "1                                8.44220                  1350.2  \n",
              "2                                8.41440                  1350.3  \n",
              "3                                8.40340                  1350.4  \n",
              "4                                8.33510                  1350.5  \n",
              "...                                  ...                     ...  \n",
              "2995                            -0.86565                  1649.6  \n",
              "2996                            -0.84435                  1649.7  \n",
              "2997                            -0.97383                  1649.8  \n",
              "2998                            -0.63849                  1649.9  \n",
              "2999                            -0.75215                  1650.0  \n",
              "\n",
              "[30000 rows x 4 columns]"
            ],
            "text/html": [
              "\n",
              "  <div id=\"df-369c586b-15c7-4b14-bd25-777d1e1b99e8\">\n",
              "    <div class=\"colab-df-container\">\n",
              "      <div>\n",
              "<style scoped>\n",
              "    .dataframe tbody tr th:only-of-type {\n",
              "        vertical-align: middle;\n",
              "    }\n",
              "\n",
              "    .dataframe tbody tr th {\n",
              "        vertical-align: top;\n",
              "    }\n",
              "\n",
              "    .dataframe thead th {\n",
              "        text-align: right;\n",
              "    }\n",
              "</style>\n",
              "<table border=\"1\" class=\"dataframe\">\n",
              "  <thead>\n",
              "    <tr style=\"text-align: right;\">\n",
              "      <th></th>\n",
              "      <th>air_frames signal amplitude [dB]</th>\n",
              "      <th>izo_frames signal amplitude [dB]</th>\n",
              "      <th>water_frames signal amplitude [dB]</th>\n",
              "      <th>signal wavelength [nm]</th>\n",
              "    </tr>\n",
              "  </thead>\n",
              "  <tbody>\n",
              "    <tr>\n",
              "      <th>0</th>\n",
              "      <td>9.2003</td>\n",
              "      <td>8.67500</td>\n",
              "      <td>8.42870</td>\n",
              "      <td>1350.1</td>\n",
              "    </tr>\n",
              "    <tr>\n",
              "      <th>1</th>\n",
              "      <td>9.1968</td>\n",
              "      <td>8.71160</td>\n",
              "      <td>8.44220</td>\n",
              "      <td>1350.2</td>\n",
              "    </tr>\n",
              "    <tr>\n",
              "      <th>2</th>\n",
              "      <td>9.1028</td>\n",
              "      <td>8.71570</td>\n",
              "      <td>8.41440</td>\n",
              "      <td>1350.3</td>\n",
              "    </tr>\n",
              "    <tr>\n",
              "      <th>3</th>\n",
              "      <td>9.0601</td>\n",
              "      <td>8.67920</td>\n",
              "      <td>8.40340</td>\n",
              "      <td>1350.4</td>\n",
              "    </tr>\n",
              "    <tr>\n",
              "      <th>4</th>\n",
              "      <td>9.1118</td>\n",
              "      <td>8.63120</td>\n",
              "      <td>8.33510</td>\n",
              "      <td>1350.5</td>\n",
              "    </tr>\n",
              "    <tr>\n",
              "      <th>...</th>\n",
              "      <td>...</td>\n",
              "      <td>...</td>\n",
              "      <td>...</td>\n",
              "      <td>...</td>\n",
              "    </tr>\n",
              "    <tr>\n",
              "      <th>2995</th>\n",
              "      <td>3.2784</td>\n",
              "      <td>-0.61478</td>\n",
              "      <td>-0.86565</td>\n",
              "      <td>1649.6</td>\n",
              "    </tr>\n",
              "    <tr>\n",
              "      <th>2996</th>\n",
              "      <td>3.4213</td>\n",
              "      <td>-0.53629</td>\n",
              "      <td>-0.84435</td>\n",
              "      <td>1649.7</td>\n",
              "    </tr>\n",
              "    <tr>\n",
              "      <th>2997</th>\n",
              "      <td>3.3112</td>\n",
              "      <td>-0.81838</td>\n",
              "      <td>-0.97383</td>\n",
              "      <td>1649.8</td>\n",
              "    </tr>\n",
              "    <tr>\n",
              "      <th>2998</th>\n",
              "      <td>3.4500</td>\n",
              "      <td>-0.57202</td>\n",
              "      <td>-0.63849</td>\n",
              "      <td>1649.9</td>\n",
              "    </tr>\n",
              "    <tr>\n",
              "      <th>2999</th>\n",
              "      <td>3.6370</td>\n",
              "      <td>-0.42871</td>\n",
              "      <td>-0.75215</td>\n",
              "      <td>1650.0</td>\n",
              "    </tr>\n",
              "  </tbody>\n",
              "</table>\n",
              "<p>30000 rows × 4 columns</p>\n",
              "</div>\n",
              "      <button class=\"colab-df-convert\" onclick=\"convertToInteractive('df-369c586b-15c7-4b14-bd25-777d1e1b99e8')\"\n",
              "              title=\"Convert this dataframe to an interactive table.\"\n",
              "              style=\"display:none;\">\n",
              "        \n",
              "  <svg xmlns=\"http://www.w3.org/2000/svg\" height=\"24px\"viewBox=\"0 0 24 24\"\n",
              "       width=\"24px\">\n",
              "    <path d=\"M0 0h24v24H0V0z\" fill=\"none\"/>\n",
              "    <path d=\"M18.56 5.44l.94 2.06.94-2.06 2.06-.94-2.06-.94-.94-2.06-.94 2.06-2.06.94zm-11 1L8.5 8.5l.94-2.06 2.06-.94-2.06-.94L8.5 2.5l-.94 2.06-2.06.94zm10 10l.94 2.06.94-2.06 2.06-.94-2.06-.94-.94-2.06-.94 2.06-2.06.94z\"/><path d=\"M17.41 7.96l-1.37-1.37c-.4-.4-.92-.59-1.43-.59-.52 0-1.04.2-1.43.59L10.3 9.45l-7.72 7.72c-.78.78-.78 2.05 0 2.83L4 21.41c.39.39.9.59 1.41.59.51 0 1.02-.2 1.41-.59l7.78-7.78 2.81-2.81c.8-.78.8-2.07 0-2.86zM5.41 20L4 18.59l7.72-7.72 1.47 1.35L5.41 20z\"/>\n",
              "  </svg>\n",
              "      </button>\n",
              "      \n",
              "  <style>\n",
              "    .colab-df-container {\n",
              "      display:flex;\n",
              "      flex-wrap:wrap;\n",
              "      gap: 12px;\n",
              "    }\n",
              "\n",
              "    .colab-df-convert {\n",
              "      background-color: #E8F0FE;\n",
              "      border: none;\n",
              "      border-radius: 50%;\n",
              "      cursor: pointer;\n",
              "      display: none;\n",
              "      fill: #1967D2;\n",
              "      height: 32px;\n",
              "      padding: 0 0 0 0;\n",
              "      width: 32px;\n",
              "    }\n",
              "\n",
              "    .colab-df-convert:hover {\n",
              "      background-color: #E2EBFA;\n",
              "      box-shadow: 0px 1px 2px rgba(60, 64, 67, 0.3), 0px 1px 3px 1px rgba(60, 64, 67, 0.15);\n",
              "      fill: #174EA6;\n",
              "    }\n",
              "\n",
              "    [theme=dark] .colab-df-convert {\n",
              "      background-color: #3B4455;\n",
              "      fill: #D2E3FC;\n",
              "    }\n",
              "\n",
              "    [theme=dark] .colab-df-convert:hover {\n",
              "      background-color: #434B5C;\n",
              "      box-shadow: 0px 1px 3px 1px rgba(0, 0, 0, 0.15);\n",
              "      filter: drop-shadow(0px 1px 2px rgba(0, 0, 0, 0.3));\n",
              "      fill: #FFFFFF;\n",
              "    }\n",
              "  </style>\n",
              "\n",
              "      <script>\n",
              "        const buttonEl =\n",
              "          document.querySelector('#df-369c586b-15c7-4b14-bd25-777d1e1b99e8 button.colab-df-convert');\n",
              "        buttonEl.style.display =\n",
              "          google.colab.kernel.accessAllowed ? 'block' : 'none';\n",
              "\n",
              "        async function convertToInteractive(key) {\n",
              "          const element = document.querySelector('#df-369c586b-15c7-4b14-bd25-777d1e1b99e8');\n",
              "          const dataTable =\n",
              "            await google.colab.kernel.invokeFunction('convertToInteractive',\n",
              "                                                     [key], {});\n",
              "          if (!dataTable) return;\n",
              "\n",
              "          const docLinkHtml = 'Like what you see? Visit the ' +\n",
              "            '<a target=\"_blank\" href=https://colab.research.google.com/notebooks/data_table.ipynb>data table notebook</a>'\n",
              "            + ' to learn more about interactive tables.';\n",
              "          element.innerHTML = '';\n",
              "          dataTable['output_type'] = 'display_data';\n",
              "          await google.colab.output.renderOutput(dataTable, element);\n",
              "          const docLink = document.createElement('div');\n",
              "          docLink.innerHTML = docLinkHtml;\n",
              "          element.appendChild(docLink);\n",
              "        }\n",
              "      </script>\n",
              "    </div>\n",
              "  </div>\n",
              "  "
            ]
          },
          "metadata": {},
          "execution_count": 28
        }
      ]
    },
    {
      "cell_type": "code",
      "source": [
        "sns.heatmap(dB_columns_plus_signal.corr(), annot=True)"
      ],
      "metadata": {
        "colab": {
          "base_uri": "https://localhost:8080/",
          "height": 455
        },
        "id": "2vNYzTgmVXL-",
        "outputId": "f29d809c-6430-4fae-dde5-2396a159be52"
      },
      "execution_count": 29,
      "outputs": [
        {
          "output_type": "execute_result",
          "data": {
            "text/plain": [
              "<matplotlib.axes._subplots.AxesSubplot at 0x7f21ee152730>"
            ]
          },
          "metadata": {},
          "execution_count": 29
        },
        {
          "output_type": "display_data",
          "data": {
            "text/plain": [
              "<Figure size 432x288 with 2 Axes>"
            ],
            "image/png": "[encoded data removed]"
          },
          "metadata": {
            "needs_background": "light"
          }
        }
      ]
    },
    {
      "cell_type": "markdown",
      "source": [
        "Based on the correlation test is possible to notice a full correlation between izo_frames signal amplitude [dB] and water_frames signal amplitude [dB].\n",
        "Taking on the fact that the goal of this case was to reduce TIME and COST consumption by laboratory fiber verification, one of the mentioned features is not necessary to prepare because they have a full correlation between themselves. "
      ],
      "metadata": {
        "id": "JcniAPamqLPW"
      }
    },
    {
      "cell_type": "markdown",
      "source": [
        "# Data standarization"
      ],
      "metadata": {
        "id": "IcuWxw8hsBVz"
      }
    },
    {
      "cell_type": "code",
      "source": [
        "scaler = StandardScaler()\n",
        "all_datas_gather_std = scaler.fit_transform(dB_columns_plus_signal)\n",
        "all_datas_gather_std = pd.DataFrame(\n",
        "    all_datas_gather_std,\n",
        "    index= dB_columns_plus_signal.index,\n",
        "    columns= dB_columns_plus_signal.columns\n",
        "    )\n",
        "all_datas_gather_std"
      ],
      "metadata": {
        "colab": {
          "base_uri": "https://localhost:8080/",
          "height": 574
        },
        "id": "oT1KBz0q_fSp",
        "outputId": "256198e0-d6e6-47d3-bb5b-c47427247568"
      },
      "execution_count": 30,
      "outputs": [
        {
          "output_type": "stream",
          "name": "stderr",
          "text": [
            "/usr/local/lib/python3.8/dist-packages/sklearn/utils/validation.py:1688: FutureWarning: Feature names only support names that are all strings. Got feature names with dtypes: ['str', 'str_']. An error will be raised in 1.2.\n",
            "  warnings.warn(\n",
            "/usr/local/lib/python3.8/dist-packages/sklearn/utils/validation.py:1688: FutureWarning: Feature names only support names that are all strings. Got feature names with dtypes: ['str', 'str_']. An error will be raised in 1.2.\n",
            "  warnings.warn(\n"
          ]
        },
        {
          "output_type": "execute_result",
          "data": {
            "text/plain": [
              "      air_frames signal amplitude [dB]  izo_frames signal amplitude [dB]  \\\n",
              "0                             1.714204                          1.498089   \n",
              "1                             1.713490                          1.503339   \n",
              "2                             1.694314                          1.503927   \n",
              "3                             1.685604                          1.498691   \n",
              "4                             1.696150                          1.491806   \n",
              "...                                ...                               ...   \n",
              "2995                          0.506176                          0.165558   \n",
              "2996                          0.535327                          0.176816   \n",
              "2997                          0.512867                          0.136353   \n",
              "2998                          0.541182                          0.171691   \n",
              "2999                          0.579328                          0.192248   \n",
              "\n",
              "      water_frames signal amplitude [dB]  signal wavelength [nm]  \n",
              "0                               1.547472               -1.731474  \n",
              "1                               1.549530               -1.730319  \n",
              "2                               1.545292               -1.729164  \n",
              "3                               1.543615               -1.728009  \n",
              "4                               1.533202               -1.726855  \n",
              "...                                  ...                     ...  \n",
              "2995                            0.130419                1.726855  \n",
              "2996                            0.133667                1.728009  \n",
              "2997                            0.113926                1.729164  \n",
              "2998                            0.165053                1.730319  \n",
              "2999                            0.147724                1.731474  \n",
              "\n",
              "[30000 rows x 4 columns]"
            ],
            "text/html": [
              "\n",
              "  <div id=\"df-b25cde6f-af1d-4745-a4aa-826e4a6b99aa\">\n",
              "    <div class=\"colab-df-container\">\n",
              "      <div>\n",
              "<style scoped>\n",
              "    .dataframe tbody tr th:only-of-type {\n",
              "        vertical-align: middle;\n",
              "    }\n",
              "\n",
              "    .dataframe tbody tr th {\n",
              "        vertical-align: top;\n",
              "    }\n",
              "\n",
              "    .dataframe thead th {\n",
              "        text-align: right;\n",
              "    }\n",
              "</style>\n",
              "<table border=\"1\" class=\"dataframe\">\n",
              "  <thead>\n",
              "    <tr style=\"text-align: right;\">\n",
              "      <th></th>\n",
              "      <th>air_frames signal amplitude [dB]</th>\n",
              "      <th>izo_frames signal amplitude [dB]</th>\n",
              "      <th>water_frames signal amplitude [dB]</th>\n",
              "      <th>signal wavelength [nm]</th>\n",
              "    </tr>\n",
              "  </thead>\n",
              "  <tbody>\n",
              "    <tr>\n",
              "      <th>0</th>\n",
              "      <td>1.714204</td>\n",
              "      <td>1.498089</td>\n",
              "      <td>1.547472</td>\n",
              "      <td>-1.731474</td>\n",
              "    </tr>\n",
              "    <tr>\n",
              "      <th>1</th>\n",
              "      <td>1.713490</td>\n",
              "      <td>1.503339</td>\n",
              "      <td>1.549530</td>\n",
              "      <td>-1.730319</td>\n",
              "    </tr>\n",
              "    <tr>\n",
              "      <th>2</th>\n",
              "      <td>1.694314</td>\n",
              "      <td>1.503927</td>\n",
              "      <td>1.545292</td>\n",
              "      <td>-1.729164</td>\n",
              "    </tr>\n",
              "    <tr>\n",
              "      <th>3</th>\n",
              "      <td>1.685604</td>\n",
              "      <td>1.498691</td>\n",
              "      <td>1.543615</td>\n",
              "      <td>-1.728009</td>\n",
              "    </tr>\n",
              "    <tr>\n",
              "      <th>4</th>\n",
              "      <td>1.696150</td>\n",
              "      <td>1.491806</td>\n",
              "      <td>1.533202</td>\n",
              "      <td>-1.726855</td>\n",
              "    </tr>\n",
              "    <tr>\n",
              "      <th>...</th>\n",
              "      <td>...</td>\n",
              "      <td>...</td>\n",
              "      <td>...</td>\n",
              "      <td>...</td>\n",
              "    </tr>\n",
              "    <tr>\n",
              "      <th>2995</th>\n",
              "      <td>0.506176</td>\n",
              "      <td>0.165558</td>\n",
              "      <td>0.130419</td>\n",
              "      <td>1.726855</td>\n",
              "    </tr>\n",
              "    <tr>\n",
              "      <th>2996</th>\n",
              "      <td>0.535327</td>\n",
              "      <td>0.176816</td>\n",
              "      <td>0.133667</td>\n",
              "      <td>1.728009</td>\n",
              "    </tr>\n",
              "    <tr>\n",
              "      <th>2997</th>\n",
              "      <td>0.512867</td>\n",
              "      <td>0.136353</td>\n",
              "      <td>0.113926</td>\n",
              "      <td>1.729164</td>\n",
              "    </tr>\n",
              "    <tr>\n",
              "      <th>2998</th>\n",
              "      <td>0.541182</td>\n",
              "      <td>0.171691</td>\n",
              "      <td>0.165053</td>\n",
              "      <td>1.730319</td>\n",
              "    </tr>\n",
              "    <tr>\n",
              "      <th>2999</th>\n",
              "      <td>0.579328</td>\n",
              "      <td>0.192248</td>\n",
              "      <td>0.147724</td>\n",
              "      <td>1.731474</td>\n",
              "    </tr>\n",
              "  </tbody>\n",
              "</table>\n",
              "<p>30000 rows × 4 columns</p>\n",
              "</div>\n",
              "      <button class=\"colab-df-convert\" onclick=\"convertToInteractive('df-b25cde6f-af1d-4745-a4aa-826e4a6b99aa')\"\n",
              "              title=\"Convert this dataframe to an interactive table.\"\n",
              "              style=\"display:none;\">\n",
              "        \n",
              "  <svg xmlns=\"http://www.w3.org/2000/svg\" height=\"24px\"viewBox=\"0 0 24 24\"\n",
              "       width=\"24px\">\n",
              "    <path d=\"M0 0h24v24H0V0z\" fill=\"none\"/>\n",
              "    <path d=\"M18.56 5.44l.94 2.06.94-2.06 2.06-.94-2.06-.94-.94-2.06-.94 2.06-2.06.94zm-11 1L8.5 8.5l.94-2.06 2.06-.94-2.06-.94L8.5 2.5l-.94 2.06-2.06.94zm10 10l.94 2.06.94-2.06 2.06-.94-2.06-.94-.94-2.06-.94 2.06-2.06.94z\"/><path d=\"M17.41 7.96l-1.37-1.37c-.4-.4-.92-.59-1.43-.59-.52 0-1.04.2-1.43.59L10.3 9.45l-7.72 7.72c-.78.78-.78 2.05 0 2.83L4 21.41c.39.39.9.59 1.41.59.51 0 1.02-.2 1.41-.59l7.78-7.78 2.81-2.81c.8-.78.8-2.07 0-2.86zM5.41 20L4 18.59l7.72-7.72 1.47 1.35L5.41 20z\"/>\n",
              "  </svg>\n",
              "      </button>\n",
              "      \n",
              "  <style>\n",
              "    .colab-df-container {\n",
              "      display:flex;\n",
              "      flex-wrap:wrap;\n",
              "      gap: 12px;\n",
              "    }\n",
              "\n",
              "    .colab-df-convert {\n",
              "      background-color: #E8F0FE;\n",
              "      border: none;\n",
              "      border-radius: 50%;\n",
              "      cursor: pointer;\n",
              "      display: none;\n",
              "      fill: #1967D2;\n",
              "      height: 32px;\n",
              "      padding: 0 0 0 0;\n",
              "      width: 32px;\n",
              "    }\n",
              "\n",
              "    .colab-df-convert:hover {\n",
              "      background-color: #E2EBFA;\n",
              "      box-shadow: 0px 1px 2px rgba(60, 64, 67, 0.3), 0px 1px 3px 1px rgba(60, 64, 67, 0.15);\n",
              "      fill: #174EA6;\n",
              "    }\n",
              "\n",
              "    [theme=dark] .colab-df-convert {\n",
              "      background-color: #3B4455;\n",
              "      fill: #D2E3FC;\n",
              "    }\n",
              "\n",
              "    [theme=dark] .colab-df-convert:hover {\n",
              "      background-color: #434B5C;\n",
              "      box-shadow: 0px 1px 3px 1px rgba(0, 0, 0, 0.15);\n",
              "      filter: drop-shadow(0px 1px 2px rgba(0, 0, 0, 0.3));\n",
              "      fill: #FFFFFF;\n",
              "    }\n",
              "  </style>\n",
              "\n",
              "      <script>\n",
              "        const buttonEl =\n",
              "          document.querySelector('#df-b25cde6f-af1d-4745-a4aa-826e4a6b99aa button.colab-df-convert');\n",
              "        buttonEl.style.display =\n",
              "          google.colab.kernel.accessAllowed ? 'block' : 'none';\n",
              "\n",
              "        async function convertToInteractive(key) {\n",
              "          const element = document.querySelector('#df-b25cde6f-af1d-4745-a4aa-826e4a6b99aa');\n",
              "          const dataTable =\n",
              "            await google.colab.kernel.invokeFunction('convertToInteractive',\n",
              "                                                     [key], {});\n",
              "          if (!dataTable) return;\n",
              "\n",
              "          const docLinkHtml = 'Like what you see? Visit the ' +\n",
              "            '<a target=\"_blank\" href=https://colab.research.google.com/notebooks/data_table.ipynb>data table notebook</a>'\n",
              "            + ' to learn more about interactive tables.';\n",
              "          element.innerHTML = '';\n",
              "          dataTable['output_type'] = 'display_data';\n",
              "          await google.colab.output.renderOutput(dataTable, element);\n",
              "          const docLink = document.createElement('div');\n",
              "          docLink.innerHTML = docLinkHtml;\n",
              "          element.appendChild(docLink);\n",
              "        }\n",
              "      </script>\n",
              "    </div>\n",
              "  </div>\n",
              "  "
            ]
          },
          "metadata": {},
          "execution_count": 30
        }
      ]
    },
    {
      "cell_type": "code",
      "source": [
        "all_datas_gather_std.describe()"
      ],
      "metadata": {
        "colab": {
          "base_uri": "https://localhost:8080/",
          "height": 362
        },
        "id": "r8UmdTjWWHT3",
        "outputId": "faedbb40-b20e-4f37-da5e-91e348af001b"
      },
      "execution_count": 31,
      "outputs": [
        {
          "output_type": "execute_result",
          "data": {
            "text/plain": [
              "       air_frames signal amplitude [dB]  izo_frames signal amplitude [dB]  \\\n",
              "count                      3.000000e+04                      3.000000e+04   \n",
              "mean                      -1.515825e-17                      1.136868e-17   \n",
              "std                        1.000017e+00                      1.000017e+00   \n",
              "min                       -1.957368e+00                     -2.064974e+00   \n",
              "25%                       -8.165513e-01                     -7.329889e-01   \n",
              "50%                        4.285676e-02                      1.985516e-02   \n",
              "75%                        8.146549e-01                      9.106316e-01   \n",
              "max                        1.877949e+00                      1.623814e+00   \n",
              "\n",
              "       water_frames signal amplitude [dB]  signal wavelength [nm]  \n",
              "count                        3.000000e+04            3.000000e+04  \n",
              "mean                         4.547474e-17            5.229595e-16  \n",
              "std                          1.000017e+00            1.000017e+00  \n",
              "min                         -1.974703e+00           -1.731474e+00  \n",
              "25%                         -7.784750e-01           -8.657368e-01  \n",
              "50%                         -2.128213e-02            1.312644e-15  \n",
              "75%                          9.217032e-01            8.657368e-01  \n",
              "max                          1.678012e+00            1.731474e+00  "
            ],
            "text/html": [
              "\n",
              "  <div id=\"df-dd34ea4a-a76a-4be4-a7e9-c76169ac68d9\">\n",
              "    <div class=\"colab-df-container\">\n",
              "      <div>\n",
              "<style scoped>\n",
              "    .dataframe tbody tr th:only-of-type {\n",
              "        vertical-align: middle;\n",
              "    }\n",
              "\n",
              "    .dataframe tbody tr th {\n",
              "        vertical-align: top;\n",
              "    }\n",
              "\n",
              "    .dataframe thead th {\n",
              "        text-align: right;\n",
              "    }\n",
              "</style>\n",
              "<table border=\"1\" class=\"dataframe\">\n",
              "  <thead>\n",
              "    <tr style=\"text-align: right;\">\n",
              "      <th></th>\n",
              "      <th>air_frames signal amplitude [dB]</th>\n",
              "      <th>izo_frames signal amplitude [dB]</th>\n",
              "      <th>water_frames signal amplitude [dB]</th>\n",
              "      <th>signal wavelength [nm]</th>\n",
              "    </tr>\n",
              "  </thead>\n",
              "  <tbody>\n",
              "    <tr>\n",
              "      <th>count</th>\n",
              "      <td>3.000000e+04</td>\n",
              "      <td>3.000000e+04</td>\n",
              "      <td>3.000000e+04</td>\n",
              "      <td>3.000000e+04</td>\n",
              "    </tr>\n",
              "    <tr>\n",
              "      <th>mean</th>\n",
              "      <td>-1.515825e-17</td>\n",
              "      <td>1.136868e-17</td>\n",
              "      <td>4.547474e-17</td>\n",
              "      <td>5.229595e-16</td>\n",
              "    </tr>\n",
              "    <tr>\n",
              "      <th>std</th>\n",
              "      <td>1.000017e+00</td>\n",
              "      <td>1.000017e+00</td>\n",
              "      <td>1.000017e+00</td>\n",
              "      <td>1.000017e+00</td>\n",
              "    </tr>\n",
              "    <tr>\n",
              "      <th>min</th>\n",
              "      <td>-1.957368e+00</td>\n",
              "      <td>-2.064974e+00</td>\n",
              "      <td>-1.974703e+00</td>\n",
              "      <td>-1.731474e+00</td>\n",
              "    </tr>\n",
              "    <tr>\n",
              "      <th>25%</th>\n",
              "      <td>-8.165513e-01</td>\n",
              "      <td>-7.329889e-01</td>\n",
              "      <td>-7.784750e-01</td>\n",
              "      <td>-8.657368e-01</td>\n",
              "    </tr>\n",
              "    <tr>\n",
              "      <th>50%</th>\n",
              "      <td>4.285676e-02</td>\n",
              "      <td>1.985516e-02</td>\n",
              "      <td>-2.128213e-02</td>\n",
              "      <td>1.312644e-15</td>\n",
              "    </tr>\n",
              "    <tr>\n",
              "      <th>75%</th>\n",
              "      <td>8.146549e-01</td>\n",
              "      <td>9.106316e-01</td>\n",
              "      <td>9.217032e-01</td>\n",
              "      <td>8.657368e-01</td>\n",
              "    </tr>\n",
              "    <tr>\n",
              "      <th>max</th>\n",
              "      <td>1.877949e+00</td>\n",
              "      <td>1.623814e+00</td>\n",
              "      <td>1.678012e+00</td>\n",
              "      <td>1.731474e+00</td>\n",
              "    </tr>\n",
              "  </tbody>\n",
              "</table>\n",
              "</div>\n",
              "      <button class=\"colab-df-convert\" onclick=\"convertToInteractive('df-dd34ea4a-a76a-4be4-a7e9-c76169ac68d9')\"\n",
              "              title=\"Convert this dataframe to an interactive table.\"\n",
              "              style=\"display:none;\">\n",
              "        \n",
              "  <svg xmlns=\"http://www.w3.org/2000/svg\" height=\"24px\"viewBox=\"0 0 24 24\"\n",
              "       width=\"24px\">\n",
              "    <path d=\"M0 0h24v24H0V0z\" fill=\"none\"/>\n",
              "    <path d=\"M18.56 5.44l.94 2.06.94-2.06 2.06-.94-2.06-.94-.94-2.06-.94 2.06-2.06.94zm-11 1L8.5 8.5l.94-2.06 2.06-.94-2.06-.94L8.5 2.5l-.94 2.06-2.06.94zm10 10l.94 2.06.94-2.06 2.06-.94-2.06-.94-.94-2.06-.94 2.06-2.06.94z\"/><path d=\"M17.41 7.96l-1.37-1.37c-.4-.4-.92-.59-1.43-.59-.52 0-1.04.2-1.43.59L10.3 9.45l-7.72 7.72c-.78.78-.78 2.05 0 2.83L4 21.41c.39.39.9.59 1.41.59.51 0 1.02-.2 1.41-.59l7.78-7.78 2.81-2.81c.8-.78.8-2.07 0-2.86zM5.41 20L4 18.59l7.72-7.72 1.47 1.35L5.41 20z\"/>\n",
              "  </svg>\n",
              "      </button>\n",
              "      \n",
              "  <style>\n",
              "    .colab-df-container {\n",
              "      display:flex;\n",
              "      flex-wrap:wrap;\n",
              "      gap: 12px;\n",
              "    }\n",
              "\n",
              "    .colab-df-convert {\n",
              "      background-color: #E8F0FE;\n",
              "      border: none;\n",
              "      border-radius: 50%;\n",
              "      cursor: pointer;\n",
              "      display: none;\n",
              "      fill: #1967D2;\n",
              "      height: 32px;\n",
              "      padding: 0 0 0 0;\n",
              "      width: 32px;\n",
              "    }\n",
              "\n",
              "    .colab-df-convert:hover {\n",
              "      background-color: #E2EBFA;\n",
              "      box-shadow: 0px 1px 2px rgba(60, 64, 67, 0.3), 0px 1px 3px 1px rgba(60, 64, 67, 0.15);\n",
              "      fill: #174EA6;\n",
              "    }\n",
              "\n",
              "    [theme=dark] .colab-df-convert {\n",
              "      background-color: #3B4455;\n",
              "      fill: #D2E3FC;\n",
              "    }\n",
              "\n",
              "    [theme=dark] .colab-df-convert:hover {\n",
              "      background-color: #434B5C;\n",
              "      box-shadow: 0px 1px 3px 1px rgba(0, 0, 0, 0.15);\n",
              "      filter: drop-shadow(0px 1px 2px rgba(0, 0, 0, 0.3));\n",
              "      fill: #FFFFFF;\n",
              "    }\n",
              "  </style>\n",
              "\n",
              "      <script>\n",
              "        const buttonEl =\n",
              "          document.querySelector('#df-dd34ea4a-a76a-4be4-a7e9-c76169ac68d9 button.colab-df-convert');\n",
              "        buttonEl.style.display =\n",
              "          google.colab.kernel.accessAllowed ? 'block' : 'none';\n",
              "\n",
              "        async function convertToInteractive(key) {\n",
              "          const element = document.querySelector('#df-dd34ea4a-a76a-4be4-a7e9-c76169ac68d9');\n",
              "          const dataTable =\n",
              "            await google.colab.kernel.invokeFunction('convertToInteractive',\n",
              "                                                     [key], {});\n",
              "          if (!dataTable) return;\n",
              "\n",
              "          const docLinkHtml = 'Like what you see? Visit the ' +\n",
              "            '<a target=\"_blank\" href=https://colab.research.google.com/notebooks/data_table.ipynb>data table notebook</a>'\n",
              "            + ' to learn more about interactive tables.';\n",
              "          element.innerHTML = '';\n",
              "          dataTable['output_type'] = 'display_data';\n",
              "          await google.colab.output.renderOutput(dataTable, element);\n",
              "          const docLink = document.createElement('div');\n",
              "          docLink.innerHTML = docLinkHtml;\n",
              "          element.appendChild(docLink);\n",
              "        }\n",
              "      </script>\n",
              "    </div>\n",
              "  </div>\n",
              "  "
            ]
          },
          "metadata": {},
          "execution_count": 31
        }
      ]
    },
    {
      "cell_type": "code",
      "source": [
        "all_datas_gather_std_wo_wather = all_datas_gather_std.drop(\n",
        "    columns= ['water_frames signal amplitude [dB]'])\n",
        "all_datas_gather_std_wo_wather"
      ],
      "metadata": {
        "colab": {
          "base_uri": "https://localhost:8080/",
          "height": 424
        },
        "id": "n-sP3OaDXIpf",
        "outputId": "eadc2421-5e6f-4bfd-eaf2-a3182d2bdd8f"
      },
      "execution_count": 32,
      "outputs": [
        {
          "output_type": "execute_result",
          "data": {
            "text/plain": [
              "      air_frames signal amplitude [dB]  izo_frames signal amplitude [dB]  \\\n",
              "0                             1.714204                          1.498089   \n",
              "1                             1.713490                          1.503339   \n",
              "2                             1.694314                          1.503927   \n",
              "3                             1.685604                          1.498691   \n",
              "4                             1.696150                          1.491806   \n",
              "...                                ...                               ...   \n",
              "2995                          0.506176                          0.165558   \n",
              "2996                          0.535327                          0.176816   \n",
              "2997                          0.512867                          0.136353   \n",
              "2998                          0.541182                          0.171691   \n",
              "2999                          0.579328                          0.192248   \n",
              "\n",
              "      signal wavelength [nm]  \n",
              "0                  -1.731474  \n",
              "1                  -1.730319  \n",
              "2                  -1.729164  \n",
              "3                  -1.728009  \n",
              "4                  -1.726855  \n",
              "...                      ...  \n",
              "2995                1.726855  \n",
              "2996                1.728009  \n",
              "2997                1.729164  \n",
              "2998                1.730319  \n",
              "2999                1.731474  \n",
              "\n",
              "[30000 rows x 3 columns]"
            ],
            "text/html": [
              "\n",
              "  <div id=\"df-0d2929a1-74e7-4c32-a871-4ba9d01ca2b8\">\n",
              "    <div class=\"colab-df-container\">\n",
              "      <div>\n",
              "<style scoped>\n",
              "    .dataframe tbody tr th:only-of-type {\n",
              "        vertical-align: middle;\n",
              "    }\n",
              "\n",
              "    .dataframe tbody tr th {\n",
              "        vertical-align: top;\n",
              "    }\n",
              "\n",
              "    .dataframe thead th {\n",
              "        text-align: right;\n",
              "    }\n",
              "</style>\n",
              "<table border=\"1\" class=\"dataframe\">\n",
              "  <thead>\n",
              "    <tr style=\"text-align: right;\">\n",
              "      <th></th>\n",
              "      <th>air_frames signal amplitude [dB]</th>\n",
              "      <th>izo_frames signal amplitude [dB]</th>\n",
              "      <th>signal wavelength [nm]</th>\n",
              "    </tr>\n",
              "  </thead>\n",
              "  <tbody>\n",
              "    <tr>\n",
              "      <th>0</th>\n",
              "      <td>1.714204</td>\n",
              "      <td>1.498089</td>\n",
              "      <td>-1.731474</td>\n",
              "    </tr>\n",
              "    <tr>\n",
              "      <th>1</th>\n",
              "      <td>1.713490</td>\n",
              "      <td>1.503339</td>\n",
              "      <td>-1.730319</td>\n",
              "    </tr>\n",
              "    <tr>\n",
              "      <th>2</th>\n",
              "      <td>1.694314</td>\n",
              "      <td>1.503927</td>\n",
              "      <td>-1.729164</td>\n",
              "    </tr>\n",
              "    <tr>\n",
              "      <th>3</th>\n",
              "      <td>1.685604</td>\n",
              "      <td>1.498691</td>\n",
              "      <td>-1.728009</td>\n",
              "    </tr>\n",
              "    <tr>\n",
              "      <th>4</th>\n",
              "      <td>1.696150</td>\n",
              "      <td>1.491806</td>\n",
              "      <td>-1.726855</td>\n",
              "    </tr>\n",
              "    <tr>\n",
              "      <th>...</th>\n",
              "      <td>...</td>\n",
              "      <td>...</td>\n",
              "      <td>...</td>\n",
              "    </tr>\n",
              "    <tr>\n",
              "      <th>2995</th>\n",
              "      <td>0.506176</td>\n",
              "      <td>0.165558</td>\n",
              "      <td>1.726855</td>\n",
              "    </tr>\n",
              "    <tr>\n",
              "      <th>2996</th>\n",
              "      <td>0.535327</td>\n",
              "      <td>0.176816</td>\n",
              "      <td>1.728009</td>\n",
              "    </tr>\n",
              "    <tr>\n",
              "      <th>2997</th>\n",
              "      <td>0.512867</td>\n",
              "      <td>0.136353</td>\n",
              "      <td>1.729164</td>\n",
              "    </tr>\n",
              "    <tr>\n",
              "      <th>2998</th>\n",
              "      <td>0.541182</td>\n",
              "      <td>0.171691</td>\n",
              "      <td>1.730319</td>\n",
              "    </tr>\n",
              "    <tr>\n",
              "      <th>2999</th>\n",
              "      <td>0.579328</td>\n",
              "      <td>0.192248</td>\n",
              "      <td>1.731474</td>\n",
              "    </tr>\n",
              "  </tbody>\n",
              "</table>\n",
              "<p>30000 rows × 3 columns</p>\n",
              "</div>\n",
              "      <button class=\"colab-df-convert\" onclick=\"convertToInteractive('df-0d2929a1-74e7-4c32-a871-4ba9d01ca2b8')\"\n",
              "              title=\"Convert this dataframe to an interactive table.\"\n",
              "              style=\"display:none;\">\n",
              "        \n",
              "  <svg xmlns=\"http://www.w3.org/2000/svg\" height=\"24px\"viewBox=\"0 0 24 24\"\n",
              "       width=\"24px\">\n",
              "    <path d=\"M0 0h24v24H0V0z\" fill=\"none\"/>\n",
              "    <path d=\"M18.56 5.44l.94 2.06.94-2.06 2.06-.94-2.06-.94-.94-2.06-.94 2.06-2.06.94zm-11 1L8.5 8.5l.94-2.06 2.06-.94-2.06-.94L8.5 2.5l-.94 2.06-2.06.94zm10 10l.94 2.06.94-2.06 2.06-.94-2.06-.94-.94-2.06-.94 2.06-2.06.94z\"/><path d=\"M17.41 7.96l-1.37-1.37c-.4-.4-.92-.59-1.43-.59-.52 0-1.04.2-1.43.59L10.3 9.45l-7.72 7.72c-.78.78-.78 2.05 0 2.83L4 21.41c.39.39.9.59 1.41.59.51 0 1.02-.2 1.41-.59l7.78-7.78 2.81-2.81c.8-.78.8-2.07 0-2.86zM5.41 20L4 18.59l7.72-7.72 1.47 1.35L5.41 20z\"/>\n",
              "  </svg>\n",
              "      </button>\n",
              "      \n",
              "  <style>\n",
              "    .colab-df-container {\n",
              "      display:flex;\n",
              "      flex-wrap:wrap;\n",
              "      gap: 12px;\n",
              "    }\n",
              "\n",
              "    .colab-df-convert {\n",
              "      background-color: #E8F0FE;\n",
              "      border: none;\n",
              "      border-radius: 50%;\n",
              "      cursor: pointer;\n",
              "      display: none;\n",
              "      fill: #1967D2;\n",
              "      height: 32px;\n",
              "      padding: 0 0 0 0;\n",
              "      width: 32px;\n",
              "    }\n",
              "\n",
              "    .colab-df-convert:hover {\n",
              "      background-color: #E2EBFA;\n",
              "      box-shadow: 0px 1px 2px rgba(60, 64, 67, 0.3), 0px 1px 3px 1px rgba(60, 64, 67, 0.15);\n",
              "      fill: #174EA6;\n",
              "    }\n",
              "\n",
              "    [theme=dark] .colab-df-convert {\n",
              "      background-color: #3B4455;\n",
              "      fill: #D2E3FC;\n",
              "    }\n",
              "\n",
              "    [theme=dark] .colab-df-convert:hover {\n",
              "      background-color: #434B5C;\n",
              "      box-shadow: 0px 1px 3px 1px rgba(0, 0, 0, 0.15);\n",
              "      filter: drop-shadow(0px 1px 2px rgba(0, 0, 0, 0.3));\n",
              "      fill: #FFFFFF;\n",
              "    }\n",
              "  </style>\n",
              "\n",
              "      <script>\n",
              "        const buttonEl =\n",
              "          document.querySelector('#df-0d2929a1-74e7-4c32-a871-4ba9d01ca2b8 button.colab-df-convert');\n",
              "        buttonEl.style.display =\n",
              "          google.colab.kernel.accessAllowed ? 'block' : 'none';\n",
              "\n",
              "        async function convertToInteractive(key) {\n",
              "          const element = document.querySelector('#df-0d2929a1-74e7-4c32-a871-4ba9d01ca2b8');\n",
              "          const dataTable =\n",
              "            await google.colab.kernel.invokeFunction('convertToInteractive',\n",
              "                                                     [key], {});\n",
              "          if (!dataTable) return;\n",
              "\n",
              "          const docLinkHtml = 'Like what you see? Visit the ' +\n",
              "            '<a target=\"_blank\" href=https://colab.research.google.com/notebooks/data_table.ipynb>data table notebook</a>'\n",
              "            + ' to learn more about interactive tables.';\n",
              "          element.innerHTML = '';\n",
              "          dataTable['output_type'] = 'display_data';\n",
              "          await google.colab.output.renderOutput(dataTable, element);\n",
              "          const docLink = document.createElement('div');\n",
              "          docLink.innerHTML = docLinkHtml;\n",
              "          element.appendChild(docLink);\n",
              "        }\n",
              "      </script>\n",
              "    </div>\n",
              "  </div>\n",
              "  "
            ]
          },
          "metadata": {},
          "execution_count": 32
        }
      ]
    },
    {
      "cell_type": "markdown",
      "source": [
        "# Reduce dimension of DF"
      ],
      "metadata": {
        "id": "nrCqVsoZsIk3"
      }
    },
    {
      "cell_type": "markdown",
      "source": [
        "Based on the correlation result one of the fully correlated features has been reduced."
      ],
      "metadata": {
        "id": "i7rvHP_0sNgJ"
      }
    },
    {
      "cell_type": "code",
      "source": [
        "all_datas_gather_std_wo_wather"
      ],
      "metadata": {
        "colab": {
          "base_uri": "https://localhost:8080/",
          "height": 424
        },
        "id": "mZZxRwTIYMQR",
        "outputId": "05297e32-73d7-473a-9fbe-db3fd736d29a"
      },
      "execution_count": 33,
      "outputs": [
        {
          "output_type": "execute_result",
          "data": {
            "text/plain": [
              "      air_frames signal amplitude [dB]  izo_frames signal amplitude [dB]  \\\n",
              "0                             1.714204                          1.498089   \n",
              "1                             1.713490                          1.503339   \n",
              "2                             1.694314                          1.503927   \n",
              "3                             1.685604                          1.498691   \n",
              "4                             1.696150                          1.491806   \n",
              "...                                ...                               ...   \n",
              "2995                          0.506176                          0.165558   \n",
              "2996                          0.535327                          0.176816   \n",
              "2997                          0.512867                          0.136353   \n",
              "2998                          0.541182                          0.171691   \n",
              "2999                          0.579328                          0.192248   \n",
              "\n",
              "      signal wavelength [nm]  \n",
              "0                  -1.731474  \n",
              "1                  -1.730319  \n",
              "2                  -1.729164  \n",
              "3                  -1.728009  \n",
              "4                  -1.726855  \n",
              "...                      ...  \n",
              "2995                1.726855  \n",
              "2996                1.728009  \n",
              "2997                1.729164  \n",
              "2998                1.730319  \n",
              "2999                1.731474  \n",
              "\n",
              "[30000 rows x 3 columns]"
            ],
            "text/html": [
              "\n",
              "  <div id=\"df-c2b5f150-b59a-4a49-85e7-abe046736dc8\">\n",
              "    <div class=\"colab-df-container\">\n",
              "      <div>\n",
              "<style scoped>\n",
              "    .dataframe tbody tr th:only-of-type {\n",
              "        vertical-align: middle;\n",
              "    }\n",
              "\n",
              "    .dataframe tbody tr th {\n",
              "        vertical-align: top;\n",
              "    }\n",
              "\n",
              "    .dataframe thead th {\n",
              "        text-align: right;\n",
              "    }\n",
              "</style>\n",
              "<table border=\"1\" class=\"dataframe\">\n",
              "  <thead>\n",
              "    <tr style=\"text-align: right;\">\n",
              "      <th></th>\n",
              "      <th>air_frames signal amplitude [dB]</th>\n",
              "      <th>izo_frames signal amplitude [dB]</th>\n",
              "      <th>signal wavelength [nm]</th>\n",
              "    </tr>\n",
              "  </thead>\n",
              "  <tbody>\n",
              "    <tr>\n",
              "      <th>0</th>\n",
              "      <td>1.714204</td>\n",
              "      <td>1.498089</td>\n",
              "      <td>-1.731474</td>\n",
              "    </tr>\n",
              "    <tr>\n",
              "      <th>1</th>\n",
              "      <td>1.713490</td>\n",
              "      <td>1.503339</td>\n",
              "      <td>-1.730319</td>\n",
              "    </tr>\n",
              "    <tr>\n",
              "      <th>2</th>\n",
              "      <td>1.694314</td>\n",
              "      <td>1.503927</td>\n",
              "      <td>-1.729164</td>\n",
              "    </tr>\n",
              "    <tr>\n",
              "      <th>3</th>\n",
              "      <td>1.685604</td>\n",
              "      <td>1.498691</td>\n",
              "      <td>-1.728009</td>\n",
              "    </tr>\n",
              "    <tr>\n",
              "      <th>4</th>\n",
              "      <td>1.696150</td>\n",
              "      <td>1.491806</td>\n",
              "      <td>-1.726855</td>\n",
              "    </tr>\n",
              "    <tr>\n",
              "      <th>...</th>\n",
              "      <td>...</td>\n",
              "      <td>...</td>\n",
              "      <td>...</td>\n",
              "    </tr>\n",
              "    <tr>\n",
              "      <th>2995</th>\n",
              "      <td>0.506176</td>\n",
              "      <td>0.165558</td>\n",
              "      <td>1.726855</td>\n",
              "    </tr>\n",
              "    <tr>\n",
              "      <th>2996</th>\n",
              "      <td>0.535327</td>\n",
              "      <td>0.176816</td>\n",
              "      <td>1.728009</td>\n",
              "    </tr>\n",
              "    <tr>\n",
              "      <th>2997</th>\n",
              "      <td>0.512867</td>\n",
              "      <td>0.136353</td>\n",
              "      <td>1.729164</td>\n",
              "    </tr>\n",
              "    <tr>\n",
              "      <th>2998</th>\n",
              "      <td>0.541182</td>\n",
              "      <td>0.171691</td>\n",
              "      <td>1.730319</td>\n",
              "    </tr>\n",
              "    <tr>\n",
              "      <th>2999</th>\n",
              "      <td>0.579328</td>\n",
              "      <td>0.192248</td>\n",
              "      <td>1.731474</td>\n",
              "    </tr>\n",
              "  </tbody>\n",
              "</table>\n",
              "<p>30000 rows × 3 columns</p>\n",
              "</div>\n",
              "      <button class=\"colab-df-convert\" onclick=\"convertToInteractive('df-c2b5f150-b59a-4a49-85e7-abe046736dc8')\"\n",
              "              title=\"Convert this dataframe to an interactive table.\"\n",
              "              style=\"display:none;\">\n",
              "        \n",
              "  <svg xmlns=\"http://www.w3.org/2000/svg\" height=\"24px\"viewBox=\"0 0 24 24\"\n",
              "       width=\"24px\">\n",
              "    <path d=\"M0 0h24v24H0V0z\" fill=\"none\"/>\n",
              "    <path d=\"M18.56 5.44l.94 2.06.94-2.06 2.06-.94-2.06-.94-.94-2.06-.94 2.06-2.06.94zm-11 1L8.5 8.5l.94-2.06 2.06-.94-2.06-.94L8.5 2.5l-.94 2.06-2.06.94zm10 10l.94 2.06.94-2.06 2.06-.94-2.06-.94-.94-2.06-.94 2.06-2.06.94z\"/><path d=\"M17.41 7.96l-1.37-1.37c-.4-.4-.92-.59-1.43-.59-.52 0-1.04.2-1.43.59L10.3 9.45l-7.72 7.72c-.78.78-.78 2.05 0 2.83L4 21.41c.39.39.9.59 1.41.59.51 0 1.02-.2 1.41-.59l7.78-7.78 2.81-2.81c.8-.78.8-2.07 0-2.86zM5.41 20L4 18.59l7.72-7.72 1.47 1.35L5.41 20z\"/>\n",
              "  </svg>\n",
              "      </button>\n",
              "      \n",
              "  <style>\n",
              "    .colab-df-container {\n",
              "      display:flex;\n",
              "      flex-wrap:wrap;\n",
              "      gap: 12px;\n",
              "    }\n",
              "\n",
              "    .colab-df-convert {\n",
              "      background-color: #E8F0FE;\n",
              "      border: none;\n",
              "      border-radius: 50%;\n",
              "      cursor: pointer;\n",
              "      display: none;\n",
              "      fill: #1967D2;\n",
              "      height: 32px;\n",
              "      padding: 0 0 0 0;\n",
              "      width: 32px;\n",
              "    }\n",
              "\n",
              "    .colab-df-convert:hover {\n",
              "      background-color: #E2EBFA;\n",
              "      box-shadow: 0px 1px 2px rgba(60, 64, 67, 0.3), 0px 1px 3px 1px rgba(60, 64, 67, 0.15);\n",
              "      fill: #174EA6;\n",
              "    }\n",
              "\n",
              "    [theme=dark] .colab-df-convert {\n",
              "      background-color: #3B4455;\n",
              "      fill: #D2E3FC;\n",
              "    }\n",
              "\n",
              "    [theme=dark] .colab-df-convert:hover {\n",
              "      background-color: #434B5C;\n",
              "      box-shadow: 0px 1px 3px 1px rgba(0, 0, 0, 0.15);\n",
              "      filter: drop-shadow(0px 1px 2px rgba(0, 0, 0, 0.3));\n",
              "      fill: #FFFFFF;\n",
              "    }\n",
              "  </style>\n",
              "\n",
              "      <script>\n",
              "        const buttonEl =\n",
              "          document.querySelector('#df-c2b5f150-b59a-4a49-85e7-abe046736dc8 button.colab-df-convert');\n",
              "        buttonEl.style.display =\n",
              "          google.colab.kernel.accessAllowed ? 'block' : 'none';\n",
              "\n",
              "        async function convertToInteractive(key) {\n",
              "          const element = document.querySelector('#df-c2b5f150-b59a-4a49-85e7-abe046736dc8');\n",
              "          const dataTable =\n",
              "            await google.colab.kernel.invokeFunction('convertToInteractive',\n",
              "                                                     [key], {});\n",
              "          if (!dataTable) return;\n",
              "\n",
              "          const docLinkHtml = 'Like what you see? Visit the ' +\n",
              "            '<a target=\"_blank\" href=https://colab.research.google.com/notebooks/data_table.ipynb>data table notebook</a>'\n",
              "            + ' to learn more about interactive tables.';\n",
              "          element.innerHTML = '';\n",
              "          dataTable['output_type'] = 'display_data';\n",
              "          await google.colab.output.renderOutput(dataTable, element);\n",
              "          const docLink = document.createElement('div');\n",
              "          docLink.innerHTML = docLinkHtml;\n",
              "          element.appendChild(docLink);\n",
              "        }\n",
              "      </script>\n",
              "    </div>\n",
              "  </div>\n",
              "  "
            ]
          },
          "metadata": {},
          "execution_count": 33
        }
      ]
    },
    {
      "cell_type": "markdown",
      "source": [
        "# Modeling"
      ],
      "metadata": {
        "id": "9_2kItqHsXHA"
      }
    },
    {
      "cell_type": "markdown",
      "source": [
        "Prepared models predicted 'izo_frames signal amplitude [dB] based on supplied 'air_frames signal amplitude [dB]' data"
      ],
      "metadata": {
        "id": "mPFoC7kmwsAn"
      }
    },
    {
      "cell_type": "code",
      "source": [
        "X = all_datas_gather_std_wo_wather[['air_frames signal amplitude [dB]']]\n",
        "y = all_datas_gather_std_wo_wather['izo_frames signal amplitude [dB]']"
      ],
      "metadata": {
        "id": "6KgZziH0Y4Ll"
      },
      "execution_count": 34,
      "outputs": []
    },
    {
      "cell_type": "code",
      "source": [
        "# stratify pozwala na utrzymanie tej samej proporcji 1 do 0\n",
        "X_train, X_test, y_train, y_test = train_test_split(X, y, test_size = 0.2, random_state= 3)"
      ],
      "metadata": {
        "id": "JmzAoLOkJPs-"
      },
      "execution_count": 35,
      "outputs": []
    },
    {
      "cell_type": "markdown",
      "source": [
        "Due to the fact that in this case have been supplied only 10 samples have to analysis is necessary to increase the number of samples to correct data propagation\n",
        "\n",
        "To modeling has been chosen \"linear_model.Lasso(alpha=0.1)\" based on cheet sheet from sklearn: \n",
        "\n",
        "https://scikit-learn.org/stable/tutorial/machine_learning_map/index.html"
      ],
      "metadata": {
        "id": "mHXnk-i1sclA"
      }
    },
    {
      "cell_type": "markdown",
      "source": [
        "#linear_model.Lasso(alpha=0.1)"
      ],
      "metadata": {
        "id": "iJVXmZQIvajq"
      }
    },
    {
      "cell_type": "code",
      "source": [
        "cv = KFold(n_splits=10, shuffle=True, random_state=3)\n",
        "my_split = cv.split(X_train, y_train)\n",
        "my_split\n",
        "print(X_train.shape,type(X_train),y_train.shape)\n",
        "\n",
        "lasso_predicted = []\n",
        "lasso_target = []\n",
        "\n",
        "for train_index, test_index in my_split:\n",
        "  \"\"\"extract, collect and visualisated the predicted and \n",
        "  target values from train and test values for X and y\"\"\"\n",
        "  reg= linear_model.Lasso(alpha=0.1)\n",
        "  X_train_cv, X_test_cv = X.iloc[train_index], X.iloc[test_index]\n",
        "  y_train_cv, y_test_cv = y.iloc[train_index], y.iloc[test_index]\n",
        "  X_train_cv = np.array(X_train_cv.values.reshape(-1,1))\n",
        "  X_test_cv = np.array(X_test_cv.values.reshape(-1,1))\n",
        "\n",
        "  reg.fit(X_train_cv, y_train_cv.values)\n",
        "\n",
        "  lasso_predicted = np.concatenate((lasso_predicted, reg.predict(X_test_cv)))\n",
        "  pred_len = len(lasso_predicted)\n",
        "  lasso_target = np.concatenate((lasso_target, y_test_cv))\n",
        "\n",
        "  plt.figure()\n",
        "  plt.scatter(X_train_cv, y_train_cv, c='b', label='train')\n",
        "  plt.scatter(X_test_cv, y_test_cv, c='r', label='test')\n",
        "  x = np.linspace(min(X_train_cv), max(X_train_cv), 100)\n",
        "  plt.plot(x,reg.predict(x),c='black', label='regresi0on line')\n",
        "  print(reg.intercept_, reg.coef_)\n",
        "  \n",
        "  plt.legend()\n",
        "  plt.show()"
      ],
      "metadata": {
        "colab": {
          "base_uri": "https://localhost:8080/",
          "height": 1000
        },
        "id": "DlmgIZGkAgVC",
        "outputId": "c99246c9-d9fe-4a6c-d0cf-c9fa6ad36cde"
      },
      "execution_count": 36,
      "outputs": [
        {
          "output_type": "stream",
          "name": "stdout",
          "text": [
            "(24000, 1) <class 'pandas.core.frame.DataFrame'> (24000,)\n",
            "-0.0032502324519084434 [0.78653772]\n"
          ]
        },
        {
          "output_type": "display_data",
          "data": {
            "text/plain": [
              "<Figure size 432x288 with 1 Axes>"
            ],
            "image/png": "[encoded data removed]"
          },
          "metadata": {
            "needs_background": "light"
          }
        },
        {
          "output_type": "stream",
          "name": "stdout",
          "text": [
            "-0.003346124859007907 [0.78460775]\n"
          ]
        },
        {
          "output_type": "display_data",
          "data": {
            "text/plain": [
              "<Figure size 432x288 with 1 Axes>"
            ],
            "image/png": "[encoded data removed]"
          },
          "metadata": {
            "needs_background": "light"
          }
        },
        {
          "output_type": "stream",
          "name": "stdout",
          "text": [
            "-0.005933563410467536 [0.78768592]\n"
          ]
        },
        {
          "output_type": "display_data",
          "data": {
            "text/plain": [
              "<Figure size 432x288 with 1 Axes>"
            ],
            "image/png": "[encoded data removed]"
          },
          "metadata": {
            "needs_background": "light"
          }
        },
        {
          "output_type": "stream",
          "name": "stdout",
          "text": [
            "-0.003129813831557073 [0.78599245]\n"
          ]
        },
        {
          "output_type": "display_data",
          "data": {
            "text/plain": [
              "<Figure size 432x288 with 1 Axes>"
            ],
            "image/png": "[encoded data removed]"
          },
          "metadata": {
            "needs_background": "light"
          }
        },
        {
          "output_type": "stream",
          "name": "stdout",
          "text": [
            "-0.004996409965841494 [0.7878377]\n"
          ]
        },
        {
          "output_type": "display_data",
          "data": {
            "text/plain": [
              "<Figure size 432x288 with 1 Axes>"
            ],
            "image/png": "[encoded data removed]"
          },
          "metadata": {
            "needs_background": "light"
          }
        },
        {
          "output_type": "stream",
          "name": "stdout",
          "text": [
            "-0.0028899481127179624 [0.78503465]\n"
          ]
        },
        {
          "output_type": "display_data",
          "data": {
            "text/plain": [
              "<Figure size 432x288 with 1 Axes>"
            ],
            "image/png": "[encoded data removed]"
          },
          "metadata": {
            "needs_background": "light"
          }
        },
        {
          "output_type": "stream",
          "name": "stdout",
          "text": [
            "-0.004007272925372402 [0.78625869]\n"
          ]
        },
        {
          "output_type": "display_data",
          "data": {
            "text/plain": [
              "<Figure size 432x288 with 1 Axes>"
            ],
            "image/png": "[encoded data removed]"
          },
          "metadata": {
            "needs_background": "light"
          }
        },
        {
          "output_type": "stream",
          "name": "stdout",
          "text": [
            "-0.0017987131929468637 [0.78462291]\n"
          ]
        },
        {
          "output_type": "display_data",
          "data": {
            "text/plain": [
              "<Figure size 432x288 with 1 Axes>"
            ],
            "image/png": "[encoded data removed]"
          },
          "metadata": {
            "needs_background": "light"
          }
        },
        {
          "output_type": "stream",
          "name": "stdout",
          "text": [
            "-0.006142033691939799 [0.78717788]\n"
          ]
        },
        {
          "output_type": "display_data",
          "data": {
            "text/plain": [
              "<Figure size 432x288 with 1 Axes>"
            ],
            "image/png": "[encoded data removed]"
          },
          "metadata": {
            "needs_background": "light"
          }
        },
        {
          "output_type": "stream",
          "name": "stdout",
          "text": [
            "-0.002143100167581913 [0.78564526]\n"
          ]
        },
        {
          "output_type": "display_data",
          "data": {
            "text/plain": [
              "<Figure size 432x288 with 1 Axes>"
            ],
            "image/png": "[encoded data removed]"
          },
          "metadata": {
            "needs_background": "light"
          }
        }
      ]
    },
    {
      "cell_type": "code",
      "source": [
        "print(f'MSE rating for model (linear_model.Lasso(alpha=0.1)) is = {mean_squared_error(lasso_target,lasso_predicted)}')"
      ],
      "metadata": {
        "colab": {
          "base_uri": "https://localhost:8080/"
        },
        "id": "dSwI7GGpg8vc",
        "outputId": "b3aa717c-67d1-4709-fd87-aab2b61307f4"
      },
      "execution_count": 37,
      "outputs": [
        {
          "output_type": "stream",
          "name": "stdout",
          "text": [
            "MSE rating for model (linear_model.Lasso(alpha=0.1)) is = 0.2336046281927411\n"
          ]
        }
      ]
    },
    {
      "cell_type": "markdown",
      "source": [
        "This model with MSE value on lelve 0,23 corelate with supplied data. Based on MSE result this model will be good to implement in this case."
      ],
      "metadata": {
        "id": "zoFkZQYst6uD"
      }
    },
    {
      "cell_type": "markdown",
      "source": [
        "# SVR(rbf) model"
      ],
      "metadata": {
        "id": "_tYsAba_vGte"
      }
    },
    {
      "cell_type": "markdown",
      "source": [
        "To modeling has been chosen SVR(kernel=\"rbf\", C=100, gamma=0.1, epsilon=0.1) based on cheet sheet from sklearn: \n",
        "\n",
        "https://scikit-learn.org/stable/tutorial/machine_learning_map/index.html"
      ],
      "metadata": {
        "id": "hk3XIb0UvNVg"
      }
    },
    {
      "cell_type": "code",
      "source": [
        "cv = KFold(n_splits=10, shuffle=True, random_state=3)\n",
        "my_split = cv.split(X_train, y_train)\n",
        "my_split\n",
        "print(X_train.shape,type(X_train),y_train.shape)\n",
        "\n",
        "SVR_predicted = []\n",
        "SVR_target = []\n",
        "\n",
        "for train_index, test_index in my_split:\n",
        "  \"\"\"extract, collect and visualisated the predicted and target\n",
        "   values from train and test values for X and y\"\"\"\n",
        "  svr_rbf = SVR(kernel=\"rbf\", C=100, gamma=0.1, epsilon=0.1)\n",
        "\n",
        "  X_train_cv, X_test_cv = X.iloc[train_index], X.iloc[test_index]\n",
        "  y_train_cv, y_test_cv = y.iloc[train_index], y.iloc[test_index]\n",
        "  X_train_cv = np.array(X_train_cv.values.reshape(-1,1))\n",
        "  X_test_cv = np.array(X_test_cv.values.reshape(-1,1))\n",
        "\n",
        "  svr_rbf.fit(X_train_cv, y_train_cv.values)\n",
        "\n",
        "  SVR_predicted = np.concatenate((SVR_predicted, svr_rbf.predict(X_test_cv)))\n",
        "  pred_len = len(SVR_predicted)\n",
        "  SVR_target = np.concatenate((SVR_target, y_test_cv))\n",
        "\n",
        "  plt.figure()\n",
        "  plt.scatter(X_train_cv, y_train_cv, c='b', label='train')\n",
        "  plt.scatter(X_test_cv, y_test_cv, c='r', label='test')\n",
        "  plt.plot(X,svr_rbf.predict(X),c='black', label='regresion line')\n",
        "  \n",
        "  plt.legend()\n",
        "  plt.show()"
      ],
      "metadata": {
        "colab": {
          "base_uri": "https://localhost:8080/",
          "height": 1000
        },
        "id": "Q6TAoLtch7xK",
        "outputId": "501231b8-93aa-4cfe-fd6c-e720a9360812"
      },
      "execution_count": 38,
      "outputs": [
        {
          "output_type": "stream",
          "name": "stdout",
          "text": [
            "(24000, 1) <class 'pandas.core.frame.DataFrame'> (24000,)\n"
          ]
        },
        {
          "output_type": "stream",
          "name": "stderr",
          "text": [
            "/usr/local/lib/python3.8/dist-packages/sklearn/utils/validation.py:1688: FutureWarning: Feature names only support names that are all strings. Got feature names with dtypes: ['str_']. An error will be raised in 1.2.\n",
            "  warnings.warn(\n"
          ]
        },
        {
          "output_type": "display_data",
          "data": {
            "text/plain": [
              "<Figure size 432x288 with 1 Axes>"
            ],
            "image/png": "[encoded data removed]"
          },
          "metadata": {
            "needs_background": "light"
          }
        },
        {
          "output_type": "stream",
          "name": "stderr",
          "text": [
            "/usr/local/lib/python3.8/dist-packages/sklearn/utils/validation.py:1688: FutureWarning: Feature names only support names that are all strings. Got feature names with dtypes: ['str_']. An error will be raised in 1.2.\n",
            "  warnings.warn(\n"
          ]
        },
        {
          "output_type": "display_data",
          "data": {
            "text/plain": [
              "<Figure size 432x288 with 1 Axes>"
            ],
            "image/png": "[encoded data removed]"
          },
          "metadata": {
            "needs_background": "light"
          }
        },
        {
          "output_type": "stream",
          "name": "stderr",
          "text": [
            "/usr/local/lib/python3.8/dist-packages/sklearn/utils/validation.py:1688: FutureWarning: Feature names only support names that are all strings. Got feature names with dtypes: ['str_']. An error will be raised in 1.2.\n",
            "  warnings.warn(\n"
          ]
        },
        {
          "output_type": "display_data",
          "data": {
            "text/plain": [
              "<Figure size 432x288 with 1 Axes>"
            ],
            "image/png": "[encoded data removed]"
          },
          "metadata": {
            "needs_background": "light"
          }
        },
        {
          "output_type": "stream",
          "name": "stderr",
          "text": [
            "/usr/local/lib/python3.8/dist-packages/sklearn/utils/validation.py:1688: FutureWarning: Feature names only support names that are all strings. Got feature names with dtypes: ['str_']. An error will be raised in 1.2.\n",
            "  warnings.warn(\n"
          ]
        },
        {
          "output_type": "display_data",
          "data": {
            "text/plain": [
              "<Figure size 432x288 with 1 Axes>"
            ],
            "image/png": "[encoded data removed]"
          },
          "metadata": {
            "needs_background": "light"
          }
        },
        {
          "output_type": "stream",
          "name": "stderr",
          "text": [
            "/usr/local/lib/python3.8/dist-packages/sklearn/utils/validation.py:1688: FutureWarning: Feature names only support names that are all strings. Got feature names with dtypes: ['str_']. An error will be raised in 1.2.\n",
            "  warnings.warn(\n"
          ]
        },
        {
          "output_type": "display_data",
          "data": {
            "text/plain": [
              "<Figure size 432x288 with 1 Axes>"
            ],
            "image/png": "[encoded data removed]"
          },
          "metadata": {
            "needs_background": "light"
          }
        },
        {
          "output_type": "stream",
          "name": "stderr",
          "text": [
            "/usr/local/lib/python3.8/dist-packages/sklearn/utils/validation.py:1688: FutureWarning: Feature names only support names that are all strings. Got feature names with dtypes: ['str_']. An error will be raised in 1.2.\n",
            "  warnings.warn(\n"
          ]
        },
        {
          "output_type": "display_data",
          "data": {
            "text/plain": [
              "<Figure size 432x288 with 1 Axes>"
            ],
            "image/png": "[encoded data removed]"
          },
          "metadata": {
            "needs_background": "light"
          }
        },
        {
          "output_type": "stream",
          "name": "stderr",
          "text": [
            "/usr/local/lib/python3.8/dist-packages/sklearn/utils/validation.py:1688: FutureWarning: Feature names only support names that are all strings. Got feature names with dtypes: ['str_']. An error will be raised in 1.2.\n",
            "  warnings.warn(\n"
          ]
        },
        {
          "output_type": "display_data",
          "data": {
            "text/plain": [
              "<Figure size 432x288 with 1 Axes>"
            ],
            "image/png": "[encoded data removed]"
          },
          "metadata": {
            "needs_background": "light"
          }
        },
        {
          "output_type": "stream",
          "name": "stderr",
          "text": [
            "/usr/local/lib/python3.8/dist-packages/sklearn/utils/validation.py:1688: FutureWarning: Feature names only support names that are all strings. Got feature names with dtypes: ['str_']. An error will be raised in 1.2.\n",
            "  warnings.warn(\n"
          ]
        },
        {
          "output_type": "display_data",
          "data": {
            "text/plain": [
              "<Figure size 432x288 with 1 Axes>"
            ],
            "image/png": "[encoded data removed]"
          },
          "metadata": {
            "needs_background": "light"
          }
        },
        {
          "output_type": "stream",
          "name": "stderr",
          "text": [
            "/usr/local/lib/python3.8/dist-packages/sklearn/utils/validation.py:1688: FutureWarning: Feature names only support names that are all strings. Got feature names with dtypes: ['str_']. An error will be raised in 1.2.\n",
            "  warnings.warn(\n"
          ]
        },
        {
          "output_type": "display_data",
          "data": {
            "text/plain": [
              "<Figure size 432x288 with 1 Axes>"
            ],
            "image/png": "[encoded data removed]"
          },
          "metadata": {
            "needs_background": "light"
          }
        },
        {
          "output_type": "stream",
          "name": "stderr",
          "text": [
            "/usr/local/lib/python3.8/dist-packages/sklearn/utils/validation.py:1688: FutureWarning: Feature names only support names that are all strings. Got feature names with dtypes: ['str_']. An error will be raised in 1.2.\n",
            "  warnings.warn(\n"
          ]
        },
        {
          "output_type": "display_data",
          "data": {
            "text/plain": [
              "<Figure size 432x288 with 1 Axes>"
            ],
            "image/png": "[encoded data removed]"
          },
          "metadata": {
            "needs_background": "light"
          }
        }
      ]
    },
    {
      "cell_type": "code",
      "source": [
        "print(f'MSE rating for model svr_rbf = SVR(kernel=\"rbf\", C=100, gamma=0.1, epsilon=0.1) \\n {mean_squared_error(SVR_target,SVR_predicted)}')"
      ],
      "metadata": {
        "colab": {
          "base_uri": "https://localhost:8080/"
        },
        "id": "JZ-HDb0gme_b",
        "outputId": "1ae4fbc3-bdd0-49f3-f348-8bf65629b131"
      },
      "execution_count": 39,
      "outputs": [
        {
          "output_type": "stream",
          "name": "stdout",
          "text": [
            "MSE rating for model svr_rbf = SVR(kernel=\"rbf\", C=100, gamma=0.1, epsilon=0.1) \n",
            " 0.23265245072030083\n"
          ]
        }
      ]
    },
    {
      "cell_type": "markdown",
      "source": [
        "This model is slightly better than previous but they have very similar results on 0,23 level"
      ],
      "metadata": {
        "id": "pCAlTZX-wSFG"
      }
    },
    {
      "cell_type": "markdown",
      "source": [
        "# Conclusion"
      ],
      "metadata": {
        "id": "jIeW6OWLwi0F"
      }
    },
    {
      "cell_type": "markdown",
      "source": [
        "In this case, has been prepared following operations to achieves mentioned goals(cost and time reduction):\n",
        "\n",
        "\n",
        "1.   Data investigation \n",
        "- result: Not all test has been neccesary to prepare, the elimination of one of those two features izo_frames signal amplitude [dB] and water_frames signal amplitude [dB].**(Correlation test)**\n",
        "2.   Feature engineering \n",
        "- has been implemented ML model to estimeste 'izo_frames signal amplitude [dB] based on supplied 'air_frames signal amplitude [dB]' data\n",
        "\n",
        "\n"
      ],
      "metadata": {
        "id": "plhbs2sowmAn"
      }
    },
    {
      "cell_type": "markdown",
      "source": [
        "# Suggestions"
      ],
      "metadata": {
        "id": "cVAXPQPgybdH"
      }
    },
    {
      "cell_type": "markdown",
      "source": [
        "1.   Implementation Grid searchCV to optimize hyperparameters into models\n",
        "2.   Implementation of Decision Tree model, to search for other models option\n",
        "3. Suppling more samples to model training data, in this case, supplied data was not enough to prepare a realistic model but has been used cross-validation to prepare some AI model\n",
        "4. Goals specification because those that were provided in the case sheet were not enough to face business expectations. "
      ],
      "metadata": {
        "id": "ibXWcOhkyeyJ"
      }
    }
  ]
}